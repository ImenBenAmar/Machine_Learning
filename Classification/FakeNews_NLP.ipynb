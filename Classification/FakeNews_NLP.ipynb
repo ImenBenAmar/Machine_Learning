{
  "nbformat": 4,
  "nbformat_minor": 0,
  "metadata": {
    "colab": {
      "provenance": []
    },
    "kernelspec": {
      "name": "python3",
      "display_name": "Python 3"
    },
    "language_info": {
      "name": "python"
    }
  },
  "cells": [
    {
      "cell_type": "code",
      "execution_count": 5,
      "metadata": {
        "id": "otuJjbQv48aY"
      },
      "outputs": [],
      "source": [
        "import numpy as np\n",
        "import pandas as pd\n",
        "import re\n",
        "import nltk.corpus\n",
        "from nltk.corpus import stopwords\n",
        "from nltk.stem.porter import PorterStemmer\n",
        "from sklearn.feature_extraction.text import TfidfVectorizer\n",
        "from sklearn.model_selection import train_test_split\n",
        "from sklearn.metrics import confusion_matrix, accuracy_score\n",
        "from sklearn.linear_model import LogisticRegression"
      ]
    },
    {
      "cell_type": "code",
      "source": [
        "import nltk\n",
        "nltk.download('stopwords')"
      ],
      "metadata": {
        "colab": {
          "base_uri": "https://localhost:8080/"
        },
        "id": "Oh0ggDBYFN-h",
        "outputId": "00b50265-53ca-49d0-98ca-e3a9921c72a2"
      },
      "execution_count": 1,
      "outputs": [
        {
          "output_type": "stream",
          "name": "stderr",
          "text": [
            "[nltk_data] Downloading package stopwords to /root/nltk_data...\n",
            "[nltk_data]   Unzipping corpora/stopwords.zip.\n"
          ]
        },
        {
          "output_type": "execute_result",
          "data": {
            "text/plain": [
              "True"
            ]
          },
          "metadata": {},
          "execution_count": 1
        }
      ]
    },
    {
      "cell_type": "code",
      "source": [
        "print(stopwords.words('english'))"
      ],
      "metadata": {
        "colab": {
          "base_uri": "https://localhost:8080/"
        },
        "id": "1zh2hOajFN8R",
        "outputId": "ed7d6f74-38cd-4856-e5e2-7c49f1f2d209"
      },
      "execution_count": 6,
      "outputs": [
        {
          "output_type": "stream",
          "name": "stdout",
          "text": [
            "['i', 'me', 'my', 'myself', 'we', 'our', 'ours', 'ourselves', 'you', \"you're\", \"you've\", \"you'll\", \"you'd\", 'your', 'yours', 'yourself', 'yourselves', 'he', 'him', 'his', 'himself', 'she', \"she's\", 'her', 'hers', 'herself', 'it', \"it's\", 'its', 'itself', 'they', 'them', 'their', 'theirs', 'themselves', 'what', 'which', 'who', 'whom', 'this', 'that', \"that'll\", 'these', 'those', 'am', 'is', 'are', 'was', 'were', 'be', 'been', 'being', 'have', 'has', 'had', 'having', 'do', 'does', 'did', 'doing', 'a', 'an', 'the', 'and', 'but', 'if', 'or', 'because', 'as', 'until', 'while', 'of', 'at', 'by', 'for', 'with', 'about', 'against', 'between', 'into', 'through', 'during', 'before', 'after', 'above', 'below', 'to', 'from', 'up', 'down', 'in', 'out', 'on', 'off', 'over', 'under', 'again', 'further', 'then', 'once', 'here', 'there', 'when', 'where', 'why', 'how', 'all', 'any', 'both', 'each', 'few', 'more', 'most', 'other', 'some', 'such', 'no', 'nor', 'not', 'only', 'own', 'same', 'so', 'than', 'too', 'very', 's', 't', 'can', 'will', 'just', 'don', \"don't\", 'should', \"should've\", 'now', 'd', 'll', 'm', 'o', 're', 've', 'y', 'ain', 'aren', \"aren't\", 'couldn', \"couldn't\", 'didn', \"didn't\", 'doesn', \"doesn't\", 'hadn', \"hadn't\", 'hasn', \"hasn't\", 'haven', \"haven't\", 'isn', \"isn't\", 'ma', 'mightn', \"mightn't\", 'mustn', \"mustn't\", 'needn', \"needn't\", 'shan', \"shan't\", 'shouldn', \"shouldn't\", 'wasn', \"wasn't\", 'weren', \"weren't\", 'won', \"won't\", 'wouldn', \"wouldn't\"]\n"
          ]
        }
      ]
    },
    {
      "cell_type": "markdown",
      "source": [
        "**Data pre-processing**"
      ],
      "metadata": {
        "id": "t3IrohwKJvJb"
      }
    },
    {
      "cell_type": "code",
      "source": [
        "#load data\n",
        "new_data = pd.read_csv('/content/train.csv', on_bad_lines='skip', engine='python')"
      ],
      "metadata": {
        "id": "NSqiPh7nFN6L"
      },
      "execution_count": 16,
      "outputs": []
    },
    {
      "cell_type": "code",
      "source": [
        "new_data.head()"
      ],
      "metadata": {
        "colab": {
          "base_uri": "https://localhost:8080/",
          "height": 206
        },
        "id": "199mUDv4FN36",
        "outputId": "20fc4f74-e445-49f8-9799-4915fe398744"
      },
      "execution_count": 17,
      "outputs": [
        {
          "output_type": "execute_result",
          "data": {
            "text/plain": [
              "   id                                              title              author  \\\n",
              "0   0  House Dem Aide: We Didn’t Even See Comey’s Let...       Darrell Lucus   \n",
              "1   1  FLYNN: Hillary Clinton, Big Woman on Campus - ...     Daniel J. Flynn   \n",
              "2   2                  Why the Truth Might Get You Fired  Consortiumnews.com   \n",
              "3   3  15 Civilians Killed In Single US Airstrike Hav...     Jessica Purkiss   \n",
              "4   4  Iranian woman jailed for fictional unpublished...      Howard Portnoy   \n",
              "\n",
              "                                                text  label  \n",
              "0  House Dem Aide: We Didn’t Even See Comey’s Let...      1  \n",
              "1  Ever get the feeling your life circles the rou...      0  \n",
              "2  Why the Truth Might Get You Fired October 29, ...      1  \n",
              "3  Videos 15 Civilians Killed In Single US Airstr...      1  \n",
              "4  Print \\nAn Iranian woman has been sentenced to...      1  "
            ],
            "text/html": [
              "\n",
              "  <div id=\"df-300397b6-f9b1-4b10-971a-42a2df2bbbed\" class=\"colab-df-container\">\n",
              "    <div>\n",
              "<style scoped>\n",
              "    .dataframe tbody tr th:only-of-type {\n",
              "        vertical-align: middle;\n",
              "    }\n",
              "\n",
              "    .dataframe tbody tr th {\n",
              "        vertical-align: top;\n",
              "    }\n",
              "\n",
              "    .dataframe thead th {\n",
              "        text-align: right;\n",
              "    }\n",
              "</style>\n",
              "<table border=\"1\" class=\"dataframe\">\n",
              "  <thead>\n",
              "    <tr style=\"text-align: right;\">\n",
              "      <th></th>\n",
              "      <th>id</th>\n",
              "      <th>title</th>\n",
              "      <th>author</th>\n",
              "      <th>text</th>\n",
              "      <th>label</th>\n",
              "    </tr>\n",
              "  </thead>\n",
              "  <tbody>\n",
              "    <tr>\n",
              "      <th>0</th>\n",
              "      <td>0</td>\n",
              "      <td>House Dem Aide: We Didn’t Even See Comey’s Let...</td>\n",
              "      <td>Darrell Lucus</td>\n",
              "      <td>House Dem Aide: We Didn’t Even See Comey’s Let...</td>\n",
              "      <td>1</td>\n",
              "    </tr>\n",
              "    <tr>\n",
              "      <th>1</th>\n",
              "      <td>1</td>\n",
              "      <td>FLYNN: Hillary Clinton, Big Woman on Campus - ...</td>\n",
              "      <td>Daniel J. Flynn</td>\n",
              "      <td>Ever get the feeling your life circles the rou...</td>\n",
              "      <td>0</td>\n",
              "    </tr>\n",
              "    <tr>\n",
              "      <th>2</th>\n",
              "      <td>2</td>\n",
              "      <td>Why the Truth Might Get You Fired</td>\n",
              "      <td>Consortiumnews.com</td>\n",
              "      <td>Why the Truth Might Get You Fired October 29, ...</td>\n",
              "      <td>1</td>\n",
              "    </tr>\n",
              "    <tr>\n",
              "      <th>3</th>\n",
              "      <td>3</td>\n",
              "      <td>15 Civilians Killed In Single US Airstrike Hav...</td>\n",
              "      <td>Jessica Purkiss</td>\n",
              "      <td>Videos 15 Civilians Killed In Single US Airstr...</td>\n",
              "      <td>1</td>\n",
              "    </tr>\n",
              "    <tr>\n",
              "      <th>4</th>\n",
              "      <td>4</td>\n",
              "      <td>Iranian woman jailed for fictional unpublished...</td>\n",
              "      <td>Howard Portnoy</td>\n",
              "      <td>Print \\nAn Iranian woman has been sentenced to...</td>\n",
              "      <td>1</td>\n",
              "    </tr>\n",
              "  </tbody>\n",
              "</table>\n",
              "</div>\n",
              "    <div class=\"colab-df-buttons\">\n",
              "\n",
              "  <div class=\"colab-df-container\">\n",
              "    <button class=\"colab-df-convert\" onclick=\"convertToInteractive('df-300397b6-f9b1-4b10-971a-42a2df2bbbed')\"\n",
              "            title=\"Convert this dataframe to an interactive table.\"\n",
              "            style=\"display:none;\">\n",
              "\n",
              "  <svg xmlns=\"http://www.w3.org/2000/svg\" height=\"24px\" viewBox=\"0 -960 960 960\">\n",
              "    <path d=\"M120-120v-720h720v720H120Zm60-500h600v-160H180v160Zm220 220h160v-160H400v160Zm0 220h160v-160H400v160ZM180-400h160v-160H180v160Zm440 0h160v-160H620v160ZM180-180h160v-160H180v160Zm440 0h160v-160H620v160Z\"/>\n",
              "  </svg>\n",
              "    </button>\n",
              "\n",
              "  <style>\n",
              "    .colab-df-container {\n",
              "      display:flex;\n",
              "      gap: 12px;\n",
              "    }\n",
              "\n",
              "    .colab-df-convert {\n",
              "      background-color: #E8F0FE;\n",
              "      border: none;\n",
              "      border-radius: 50%;\n",
              "      cursor: pointer;\n",
              "      display: none;\n",
              "      fill: #1967D2;\n",
              "      height: 32px;\n",
              "      padding: 0 0 0 0;\n",
              "      width: 32px;\n",
              "    }\n",
              "\n",
              "    .colab-df-convert:hover {\n",
              "      background-color: #E2EBFA;\n",
              "      box-shadow: 0px 1px 2px rgba(60, 64, 67, 0.3), 0px 1px 3px 1px rgba(60, 64, 67, 0.15);\n",
              "      fill: #174EA6;\n",
              "    }\n",
              "\n",
              "    .colab-df-buttons div {\n",
              "      margin-bottom: 4px;\n",
              "    }\n",
              "\n",
              "    [theme=dark] .colab-df-convert {\n",
              "      background-color: #3B4455;\n",
              "      fill: #D2E3FC;\n",
              "    }\n",
              "\n",
              "    [theme=dark] .colab-df-convert:hover {\n",
              "      background-color: #434B5C;\n",
              "      box-shadow: 0px 1px 3px 1px rgba(0, 0, 0, 0.15);\n",
              "      filter: drop-shadow(0px 1px 2px rgba(0, 0, 0, 0.3));\n",
              "      fill: #FFFFFF;\n",
              "    }\n",
              "  </style>\n",
              "\n",
              "    <script>\n",
              "      const buttonEl =\n",
              "        document.querySelector('#df-300397b6-f9b1-4b10-971a-42a2df2bbbed button.colab-df-convert');\n",
              "      buttonEl.style.display =\n",
              "        google.colab.kernel.accessAllowed ? 'block' : 'none';\n",
              "\n",
              "      async function convertToInteractive(key) {\n",
              "        const element = document.querySelector('#df-300397b6-f9b1-4b10-971a-42a2df2bbbed');\n",
              "        const dataTable =\n",
              "          await google.colab.kernel.invokeFunction('convertToInteractive',\n",
              "                                                    [key], {});\n",
              "        if (!dataTable) return;\n",
              "\n",
              "        const docLinkHtml = 'Like what you see? Visit the ' +\n",
              "          '<a target=\"_blank\" href=https://colab.research.google.com/notebooks/data_table.ipynb>data table notebook</a>'\n",
              "          + ' to learn more about interactive tables.';\n",
              "        element.innerHTML = '';\n",
              "        dataTable['output_type'] = 'display_data';\n",
              "        await google.colab.output.renderOutput(dataTable, element);\n",
              "        const docLink = document.createElement('div');\n",
              "        docLink.innerHTML = docLinkHtml;\n",
              "        element.appendChild(docLink);\n",
              "      }\n",
              "    </script>\n",
              "  </div>\n",
              "\n",
              "\n",
              "<div id=\"df-32171354-573b-4eb2-af70-531e82639092\">\n",
              "  <button class=\"colab-df-quickchart\" onclick=\"quickchart('df-32171354-573b-4eb2-af70-531e82639092')\"\n",
              "            title=\"Suggest charts\"\n",
              "            style=\"display:none;\">\n",
              "\n",
              "<svg xmlns=\"http://www.w3.org/2000/svg\" height=\"24px\"viewBox=\"0 0 24 24\"\n",
              "     width=\"24px\">\n",
              "    <g>\n",
              "        <path d=\"M19 3H5c-1.1 0-2 .9-2 2v14c0 1.1.9 2 2 2h14c1.1 0 2-.9 2-2V5c0-1.1-.9-2-2-2zM9 17H7v-7h2v7zm4 0h-2V7h2v10zm4 0h-2v-4h2v4z\"/>\n",
              "    </g>\n",
              "</svg>\n",
              "  </button>\n",
              "\n",
              "<style>\n",
              "  .colab-df-quickchart {\n",
              "      --bg-color: #E8F0FE;\n",
              "      --fill-color: #1967D2;\n",
              "      --hover-bg-color: #E2EBFA;\n",
              "      --hover-fill-color: #174EA6;\n",
              "      --disabled-fill-color: #AAA;\n",
              "      --disabled-bg-color: #DDD;\n",
              "  }\n",
              "\n",
              "  [theme=dark] .colab-df-quickchart {\n",
              "      --bg-color: #3B4455;\n",
              "      --fill-color: #D2E3FC;\n",
              "      --hover-bg-color: #434B5C;\n",
              "      --hover-fill-color: #FFFFFF;\n",
              "      --disabled-bg-color: #3B4455;\n",
              "      --disabled-fill-color: #666;\n",
              "  }\n",
              "\n",
              "  .colab-df-quickchart {\n",
              "    background-color: var(--bg-color);\n",
              "    border: none;\n",
              "    border-radius: 50%;\n",
              "    cursor: pointer;\n",
              "    display: none;\n",
              "    fill: var(--fill-color);\n",
              "    height: 32px;\n",
              "    padding: 0;\n",
              "    width: 32px;\n",
              "  }\n",
              "\n",
              "  .colab-df-quickchart:hover {\n",
              "    background-color: var(--hover-bg-color);\n",
              "    box-shadow: 0 1px 2px rgba(60, 64, 67, 0.3), 0 1px 3px 1px rgba(60, 64, 67, 0.15);\n",
              "    fill: var(--button-hover-fill-color);\n",
              "  }\n",
              "\n",
              "  .colab-df-quickchart-complete:disabled,\n",
              "  .colab-df-quickchart-complete:disabled:hover {\n",
              "    background-color: var(--disabled-bg-color);\n",
              "    fill: var(--disabled-fill-color);\n",
              "    box-shadow: none;\n",
              "  }\n",
              "\n",
              "  .colab-df-spinner {\n",
              "    border: 2px solid var(--fill-color);\n",
              "    border-color: transparent;\n",
              "    border-bottom-color: var(--fill-color);\n",
              "    animation:\n",
              "      spin 1s steps(1) infinite;\n",
              "  }\n",
              "\n",
              "  @keyframes spin {\n",
              "    0% {\n",
              "      border-color: transparent;\n",
              "      border-bottom-color: var(--fill-color);\n",
              "      border-left-color: var(--fill-color);\n",
              "    }\n",
              "    20% {\n",
              "      border-color: transparent;\n",
              "      border-left-color: var(--fill-color);\n",
              "      border-top-color: var(--fill-color);\n",
              "    }\n",
              "    30% {\n",
              "      border-color: transparent;\n",
              "      border-left-color: var(--fill-color);\n",
              "      border-top-color: var(--fill-color);\n",
              "      border-right-color: var(--fill-color);\n",
              "    }\n",
              "    40% {\n",
              "      border-color: transparent;\n",
              "      border-right-color: var(--fill-color);\n",
              "      border-top-color: var(--fill-color);\n",
              "    }\n",
              "    60% {\n",
              "      border-color: transparent;\n",
              "      border-right-color: var(--fill-color);\n",
              "    }\n",
              "    80% {\n",
              "      border-color: transparent;\n",
              "      border-right-color: var(--fill-color);\n",
              "      border-bottom-color: var(--fill-color);\n",
              "    }\n",
              "    90% {\n",
              "      border-color: transparent;\n",
              "      border-bottom-color: var(--fill-color);\n",
              "    }\n",
              "  }\n",
              "</style>\n",
              "\n",
              "  <script>\n",
              "    async function quickchart(key) {\n",
              "      const quickchartButtonEl =\n",
              "        document.querySelector('#' + key + ' button');\n",
              "      quickchartButtonEl.disabled = true;  // To prevent multiple clicks.\n",
              "      quickchartButtonEl.classList.add('colab-df-spinner');\n",
              "      try {\n",
              "        const charts = await google.colab.kernel.invokeFunction(\n",
              "            'suggestCharts', [key], {});\n",
              "      } catch (error) {\n",
              "        console.error('Error during call to suggestCharts:', error);\n",
              "      }\n",
              "      quickchartButtonEl.classList.remove('colab-df-spinner');\n",
              "      quickchartButtonEl.classList.add('colab-df-quickchart-complete');\n",
              "    }\n",
              "    (() => {\n",
              "      let quickchartButtonEl =\n",
              "        document.querySelector('#df-32171354-573b-4eb2-af70-531e82639092 button');\n",
              "      quickchartButtonEl.style.display =\n",
              "        google.colab.kernel.accessAllowed ? 'block' : 'none';\n",
              "    })();\n",
              "  </script>\n",
              "</div>\n",
              "\n",
              "    </div>\n",
              "  </div>\n"
            ],
            "application/vnd.google.colaboratory.intrinsic+json": {
              "type": "dataframe",
              "variable_name": "new_data",
              "summary": "{\n  \"name\": \"new_data\",\n  \"rows\": 7352,\n  \"fields\": [\n    {\n      \"column\": \"id\",\n      \"properties\": {\n        \"dtype\": \"number\",\n        \"std\": 2122,\n        \"min\": 0,\n        \"max\": 7351,\n        \"num_unique_values\": 7352,\n        \"samples\": [\n          4525,\n          1446,\n          5995\n        ],\n        \"semantic_type\": \"\",\n        \"description\": \"\"\n      }\n    },\n    {\n      \"column\": \"title\",\n      \"properties\": {\n        \"dtype\": \"string\",\n        \"num_unique_values\": 7083,\n        \"samples\": [\n          \"Justice Dept. Says Judge in Immigration Case Is Out of Bounds - The New York Times\",\n          \"New Heavy-Duty Voting Machine Allows Americans To Take Out Frustration On It Before Casting Ballot - The Onion - America's Finest News Source\",\n          \"How Voting Machines Are Programmed In Order To Steal Elections\"\n        ],\n        \"semantic_type\": \"\",\n        \"description\": \"\"\n      }\n    },\n    {\n      \"column\": \"author\",\n      \"properties\": {\n        \"dtype\": \"category\",\n        \"num_unique_values\": 2185,\n        \"samples\": [\n          \"Scott Cacciola\",\n          \"Michael Krieger\",\n          \"Robert Koehler\"\n        ],\n        \"semantic_type\": \"\",\n        \"description\": \"\"\n      }\n    },\n    {\n      \"column\": \"text\",\n      \"properties\": {\n        \"dtype\": \"string\",\n        \"num_unique_values\": 7252,\n        \"samples\": [\n          \"Email \\nMidday last Thursday, the price of crude oil for delivery in December touched $50, and it\\u2019s been all downhill since then. At noon on Wednesday crude oil futures touched $45 a barrel on news that inventories soared last week by the most in 34 years. \\nThe market wasn\\u2019t expecting that. It was bad enough that the American Petroleum Institute (API) reported a supply increase nine times greater than analysts and observers were expecting last week. Those market seers were betting on an increase of a million barrels. Instead the API reported the increase was 9.3 million \\u2014 a miss of gigantic proportions. \\nOn Wednesday, however, the Energy Information Administration (EIA) reported that the API\\u2019s estimate was far too low: Inventories last week jumped by 14.4 million barrels, forcing one of those observers, Bob Yawger, director of the futures division of Mizuho Securities USA, to exclaim: \\u201cYou could easily make the argument that [the EIA report is] the most bearish ... of all time.\\u201d He added, \\u201cThere\\u2019s nothing to support the market.\\u201d \\nThe futures market is driven by expectations. Ever since OPEC promised in September that it would have a working plan in place by November to cut production in order to \\u201cbalance\\u201d the market, crude oil futures have slowly inched up. The market managed to resist the temptation to sell off on news that the rig count in the United States was increasing, that the majors were increasing their capital expenditures for 2017, and that DUCs (wells developed but not completed) were coming into production. \\nWhat it couldn\\u2019t do was shrug off the news that Goldman Sachs, in a private memo to its customers (and revealed to Irina Slav at OilPrice.com), suggests that oil is headed for $40 a barrel: \\\"The lack of progress on implementing production quotas and the growing discord between OPEC producers suggests a declining probability of reaching a deal on November 30.\\\" \\nThis is the same company that \\u201csuggested\\u201d that oil could drop into the 20s late last year, which it did, touching $26 a barrel in February before rebounding. \\nOn top of that was the distressing news \\u2014 at least to those banking on higher prices and betting on that outcome \\u2014 that U.S. refiners are operating at only 85 percent of capacity, especially at a time when increased demands over the holidays would usually drive prices higher. \\nAdd to that the news that OPEC members, while meeting privately to hammer together some sort of deal to cut \\u2014 or at least freeze \\u2014 production, are increasing production at the same time. Iran is exempted from any participation in the proposed cuts, and is raising its production back to pre-sanction levels as quickly as it can; Iraq is demanding the same exemption as Iran, claiming that it needs increased revenues to fight ISIS; Russia is going its own way as it isn\\u2019t a member of the cartel; and Libya and Nigeria are merrily ignoring the charade, adding another 800,000 barrels to global supply last month. \\nThe so-called \\u201cbalance\\u201d of the oil markets between supply and demand is many months off, while the futures market is likely to continue its breathtaking selloff to $40 and perhaps even lower. \\n\\nAn Ivy League graduate and former investment advisor, Bob is a regular contributor to The New American magazine and blogs frequently at LightFromTheRight.com, primarily on economics and politics. He can be reached at This email address is being protected from spambots. You need JavaScript enabled to view it. . Please review our Comment Policy before posting a comment \\nThank you for joining the discussion at The New American. We value our readers and encourage their participation, but in order to ensure a positive experience for our readership, we have a few guidelines for commenting on articles. If your post does not follow our policy, it will be deleted. \\nNo profanity, racial slurs, direct threats, or threatening language. \\nNo product advertisements. \\nPlease post comments in English. \\nPlease keep your comments on topic with the article. If you wish to comment on another subject, you may search for a relevant article and join or start a discussion there.\",\n          \"WASHINGTON  \\u2014   The Trump administration is making it tougher for millions of visitors to enter the United States by demanding new security checks before giving visas to tourists, business travelers and relatives of American residents. Diplomatic cables sent last week from Secretary of State Rex W. Tillerson to all American embassies instructed consular officials to broadly increase scrutiny. It was the first evidence of the \\u201cextreme vetting\\u201d Mr. Trump promised during the presidential campaign. The new rules generally do not apply to citizens of 38 countries  \\u2014   including most of Europe and longstanding allies like Australia, New Zealand, Japan and South Korea  \\u2014   who can be speedily admitted into the United States under the visa waiver program. That program does not cover citizens from any country in the Middle East or Africa. Even stricter security checks for people from six predominantly Muslim nations remain on hold because federal courts have temporarily blocked President Trump\\u2019s travel ban. But Mr. Trump and his national security team are not waiting to toughen the rules to decide who can enter the United States. Embassy officials must now scrutinize a broader pool of visa applicants to determine if they pose security risks to the United States, according to four cables sent between March 10 and March 17. That extra scrutiny will include asking applicants detailed questions about their background and making mandatory checks of social media history if a person has ever been in territory controlled by the Islamic State. Mr. Trump has spoken regularly of his concern about the threat of \\u201cradical Islamic terrorism\\u201d from immigrants. But it is unclear who, exactly, will be targeted for the extra scrutiny since Mr. Tillerson\\u2019s cables leave that decision up to security officers at each embassy. Still, taken together, consular officials and immigration advocates said the administration\\u2019s moves will increase the likelihood of denial for those seeking to come to America, and will further slow down a bureaucratic approval process that can already take months or even years for those flagged for extra investigation. In 2016, the United States issued more than 10 million visas. There are legitimate reasons someone might be targeted, such as evidence of a connection to terrorism or crime. But advocates also said they worry about people being profiled for extra scrutiny because of their name or nationality. \\u201cThis will certainly slow down the screening process and impose a substantial burden on these applicants,\\u201d said Greg Chen, the director of advocacy for the American Immigration Lawyers Association. \\u201cIt will make it much harder and create substantial delays. \\u201d The cables from Mr. Tillerson, which were reported by Reuters, make clear that the Trump administration wants a more intense focus on the potential for a serious threat when making decisions about who should receive a visa. \\u201cConsular officers should not hesitate to refuse any case presenting security concerns,\\u201d Mr. Tillerson wrote in the cables, titled \\u201cImplementing Immediate Heightened Screening and Vetting of Visa Applications. \\u201d \\u201cAll visa decisions are national security decisions,\\u201d the secretary of state added. During his presidential campaign, Mr. Trump accused the Obama administration of failing to properly screen people coming into the United States, a claim former officials in that administration reject. As a candidate, Mr. Trump vowed to ban all incoming Muslims until leaders could \\u201cfigure out what the hell is going on. \\u201d Later, he backed away from a total ban on Muslims but promised \\u201cextreme vetting\\u201d of those trying to come to the United States. The president\\u2019s first attempt to put tougher screening in place was the executive order aimed at temporarily blocking refugees and people whom Mr. Trump called \\u201cbad dudes\\u201d from predominantly Muslim countries. Courts blocked the first version of the president\\u2019s order after a chaotic rollout just days into his term. A second order was blocked this month. But on March 6, the same day that Mr. Trump issued his revised travel ban, he also wrote a presidential memorandum ordering the secretary of state, the attorney general and the secretary of homeland security to \\u201cimplement protocols and procedures\\u201d to enhance visa screening. Administration officials said the cables from Mr. Tillerson are among the actions being taken to carry out that memorandum. Mark Toner, a State Department spokesman, said the steps aim \\u201cto more effectively identify individuals who could pose a threat to the United States. \\u201d Most people seeking entry to the United States, for family, business or tourism reasons, must apply for a visa. Embassy officials can deny a visa for anyone suspected of being a threat, conducting fraud or planning to stay longer than allowed. The   unclassified cable that Mr. Tillerson sent on March 15, which was provided to The New York Times, makes clear that the process of securing an entry visa is about to get harder and longer at diplomatic posts around the globe. \\u201cConsular chiefs must immediately convene post\\u2019s law enforcement and intelligence community partners\\u201d to develop what Mr. Tillerson described in the cable as \\u201csets of   populations warranting increased scrutiny. \\u201d People targeted for increased scrutiny, Mr. Tillerson said in his cable, may be subject to a decision made only after more rigorous screening. The March 15 cable suggests areas of inquiry during a required interview, including: the applicant\\u2019s travel history, addresses and work history for 15 years and all phone numbers, email addresses and social media handles used by the applicant in the past five years. Another cable, sent two days later, indicated that consular officers should not begin asking for the   travel and work histories until the State Department received authorization for those questions from the Office of Management and Budget. It is unclear why that permission had not been granted. The State Department also urged its embassy officials to delay or reschedule interviews if an applicant was unable to provide all of the information demanded. And Mr. Tillerson acknowledged in the cables that the extra scrutiny would cause \\u201cbacklogs to rise,\\u201d even as he recommended that officials should each interview no more than 120 visa applicants each day. Mr. Chen, of the American Immigration Lawyers Association, questioned how a single interviewer who conducts 120 interviews per day  \\u2014   at about five minutes per interview  \\u2014   could improve security for the visa process. \\u201cIt\\u2019s highly unlikely they could obtain information that demonstrates whether someone is a national security threat in such a brief interview process,\\u201d he said. In addition to the new security protocols for embassies, the four diplomatic cables sent last week offer a view into how the administration hopes to enact the travel ban if the president ever gets the chance. The March 15 cable, which was sent before federal courts blocked the revised travel ban, increases scrutiny on people from the six countries in the president\\u2019s executive order: Iran, Yemen, Sudan, Syria, Somalia and Libya. It also includes a section calling for increased scrutiny for Iraqi nationals. For those from the six countries covered in the ban, the cable envisions a process for potentially granting a limited number of exemptions from the ban by issuing a waiver, but only after vigorous screening. Those people would be questioned about their past 15 years of travel and occupational history, as well as whether they have visited territory controlled by the Islamic State. A March 16 cable suspended \\u201call enforcement\\u201d regarding the tougher scrutiny on the countries from Mr. Trump\\u2019s executive order.\",\n          \"On Wednesday\\u2019s broadcast of CNN\\u2019s \\u201cNew Day,\\u201d Senator Al Franken ( ) stated that he would still appear with comedian Kathy Griffin, and denounced the picture depicting her holding up President Trump\\u2019s severed head as something that \\u201chad no business\\u201d being in the public discourse and a \\u201chorrible mistake. \\u201d  Franken said that Griffin deserved to be denounced for the picture, and that he thought she went too far. He added, \\u201cKathy is a friend, and she\\u2019s a terrific comedian, but what  \\u2014   this had no business being in our public discourse. And I talked to her. She apologized, a real fulsome apology. She\\u2019s actually begged for forgiveness, and I believe in forgiveness. \\u201d Franken further stated, \\u201cI think she did the right thing. I think asking for forgiveness and acknowledging that this  \\u2014   this was a horrible mistake. \\u201d Interviewer Alisyn Camerota then asked Franken, \\u201cAnd you\\u2019re still going to appear with her?\\u201d He responded, \\u201cYes. \\u201d (  GOP War Room) Follow Ian Hanchett on Twitter @IanHanchett\"\n        ],\n        \"semantic_type\": \"\",\n        \"description\": \"\"\n      }\n    },\n    {\n      \"column\": \"label\",\n      \"properties\": {\n        \"dtype\": \"number\",\n        \"std\": 0,\n        \"min\": 0,\n        \"max\": 1,\n        \"num_unique_values\": 2,\n        \"samples\": [\n          0,\n          1\n        ],\n        \"semantic_type\": \"\",\n        \"description\": \"\"\n      }\n    }\n  ]\n}"
            }
          },
          "metadata": {},
          "execution_count": 17
        }
      ]
    },
    {
      "cell_type": "code",
      "source": [
        "new_data.shape"
      ],
      "metadata": {
        "colab": {
          "base_uri": "https://localhost:8080/"
        },
        "id": "l5Rhr6YeFN1p",
        "outputId": "e5c0eb54-2331-47bc-f4bf-481684ef0c67"
      },
      "execution_count": 18,
      "outputs": [
        {
          "output_type": "execute_result",
          "data": {
            "text/plain": [
              "(7352, 5)"
            ]
          },
          "metadata": {},
          "execution_count": 18
        }
      ]
    },
    {
      "cell_type": "code",
      "source": [
        "#counting missing value\n",
        "new_data.isnull().sum()"
      ],
      "metadata": {
        "colab": {
          "base_uri": "https://localhost:8080/",
          "height": 241
        },
        "id": "AKyAR8hbFNzk",
        "outputId": "9aa8a42f-6df5-4912-e794-f3aba7a819ff"
      },
      "execution_count": 19,
      "outputs": [
        {
          "output_type": "execute_result",
          "data": {
            "text/plain": [
              "id          0\n",
              "title     205\n",
              "author    698\n",
              "text       14\n",
              "label       0\n",
              "dtype: int64"
            ],
            "text/html": [
              "<div>\n",
              "<style scoped>\n",
              "    .dataframe tbody tr th:only-of-type {\n",
              "        vertical-align: middle;\n",
              "    }\n",
              "\n",
              "    .dataframe tbody tr th {\n",
              "        vertical-align: top;\n",
              "    }\n",
              "\n",
              "    .dataframe thead th {\n",
              "        text-align: right;\n",
              "    }\n",
              "</style>\n",
              "<table border=\"1\" class=\"dataframe\">\n",
              "  <thead>\n",
              "    <tr style=\"text-align: right;\">\n",
              "      <th></th>\n",
              "      <th>0</th>\n",
              "    </tr>\n",
              "  </thead>\n",
              "  <tbody>\n",
              "    <tr>\n",
              "      <th>id</th>\n",
              "      <td>0</td>\n",
              "    </tr>\n",
              "    <tr>\n",
              "      <th>title</th>\n",
              "      <td>205</td>\n",
              "    </tr>\n",
              "    <tr>\n",
              "      <th>author</th>\n",
              "      <td>698</td>\n",
              "    </tr>\n",
              "    <tr>\n",
              "      <th>text</th>\n",
              "      <td>14</td>\n",
              "    </tr>\n",
              "    <tr>\n",
              "      <th>label</th>\n",
              "      <td>0</td>\n",
              "    </tr>\n",
              "  </tbody>\n",
              "</table>\n",
              "</div><br><label><b>dtype:</b> int64</label>"
            ]
          },
          "metadata": {},
          "execution_count": 19
        }
      ]
    },
    {
      "cell_type": "code",
      "source": [
        "#replace with empty string\n",
        "#new_data = new_data.fillna('')\n",
        "#imputing\n",
        "from sklearn.impute import SimpleImputer\n",
        "# Create a SimpleImputer instance with the 'most_frequent' strategy\n",
        "imputer = SimpleImputer(strategy='most_frequent')\n",
        "# Apply the imputer to fill missing values in the 'title' column\n",
        "new_data['title'] = imputer.fit_transform(new_data[['title']]).ravel()\n",
        "# Apply the imputer to fill missing values in the 'author' column\n",
        "new_data['author'] = imputer.fit_transform(new_data[['author']]).ravel()\n"
      ],
      "metadata": {
        "id": "1RGMyvWjFNxR"
      },
      "execution_count": 22,
      "outputs": []
    },
    {
      "cell_type": "code",
      "source": [
        "new_data.isnull().sum()"
      ],
      "metadata": {
        "colab": {
          "base_uri": "https://localhost:8080/",
          "height": 241
        },
        "id": "3Qu0j6hfFNux",
        "outputId": "5284c279-a18a-4be1-e014-62b1bdb6ca6a"
      },
      "execution_count": 23,
      "outputs": [
        {
          "output_type": "execute_result",
          "data": {
            "text/plain": [
              "id         0\n",
              "title      0\n",
              "author     0\n",
              "text      14\n",
              "label      0\n",
              "dtype: int64"
            ],
            "text/html": [
              "<div>\n",
              "<style scoped>\n",
              "    .dataframe tbody tr th:only-of-type {\n",
              "        vertical-align: middle;\n",
              "    }\n",
              "\n",
              "    .dataframe tbody tr th {\n",
              "        vertical-align: top;\n",
              "    }\n",
              "\n",
              "    .dataframe thead th {\n",
              "        text-align: right;\n",
              "    }\n",
              "</style>\n",
              "<table border=\"1\" class=\"dataframe\">\n",
              "  <thead>\n",
              "    <tr style=\"text-align: right;\">\n",
              "      <th></th>\n",
              "      <th>0</th>\n",
              "    </tr>\n",
              "  </thead>\n",
              "  <tbody>\n",
              "    <tr>\n",
              "      <th>id</th>\n",
              "      <td>0</td>\n",
              "    </tr>\n",
              "    <tr>\n",
              "      <th>title</th>\n",
              "      <td>0</td>\n",
              "    </tr>\n",
              "    <tr>\n",
              "      <th>author</th>\n",
              "      <td>0</td>\n",
              "    </tr>\n",
              "    <tr>\n",
              "      <th>text</th>\n",
              "      <td>14</td>\n",
              "    </tr>\n",
              "    <tr>\n",
              "      <th>label</th>\n",
              "      <td>0</td>\n",
              "    </tr>\n",
              "  </tbody>\n",
              "</table>\n",
              "</div><br><label><b>dtype:</b> int64</label>"
            ]
          },
          "metadata": {},
          "execution_count": 23
        }
      ]
    },
    {
      "cell_type": "code",
      "source": [
        "new_data.dropna(inplace=True)"
      ],
      "metadata": {
        "id": "XYDd9PtZFNsc"
      },
      "execution_count": 24,
      "outputs": []
    },
    {
      "cell_type": "code",
      "source": [
        "new_data.head()"
      ],
      "metadata": {
        "colab": {
          "base_uri": "https://localhost:8080/",
          "height": 206
        },
        "id": "gqbwJgKaFNqZ",
        "outputId": "a4c955fb-05af-40ad-c35c-f0c9ebbfc955"
      },
      "execution_count": 26,
      "outputs": [
        {
          "output_type": "execute_result",
          "data": {
            "text/plain": [
              "   id                                              title              author  \\\n",
              "0   0  House Dem Aide: We Didn’t Even See Comey’s Let...       Darrell Lucus   \n",
              "1   1  FLYNN: Hillary Clinton, Big Woman on Campus - ...     Daniel J. Flynn   \n",
              "2   2                  Why the Truth Might Get You Fired  Consortiumnews.com   \n",
              "3   3  15 Civilians Killed In Single US Airstrike Hav...     Jessica Purkiss   \n",
              "4   4  Iranian woman jailed for fictional unpublished...      Howard Portnoy   \n",
              "\n",
              "                                                text  label  \n",
              "0  House Dem Aide: We Didn’t Even See Comey’s Let...      1  \n",
              "1  Ever get the feeling your life circles the rou...      0  \n",
              "2  Why the Truth Might Get You Fired October 29, ...      1  \n",
              "3  Videos 15 Civilians Killed In Single US Airstr...      1  \n",
              "4  Print \\nAn Iranian woman has been sentenced to...      1  "
            ],
            "text/html": [
              "\n",
              "  <div id=\"df-dd2c7522-542f-4a77-b0be-5ef8022f8111\" class=\"colab-df-container\">\n",
              "    <div>\n",
              "<style scoped>\n",
              "    .dataframe tbody tr th:only-of-type {\n",
              "        vertical-align: middle;\n",
              "    }\n",
              "\n",
              "    .dataframe tbody tr th {\n",
              "        vertical-align: top;\n",
              "    }\n",
              "\n",
              "    .dataframe thead th {\n",
              "        text-align: right;\n",
              "    }\n",
              "</style>\n",
              "<table border=\"1\" class=\"dataframe\">\n",
              "  <thead>\n",
              "    <tr style=\"text-align: right;\">\n",
              "      <th></th>\n",
              "      <th>id</th>\n",
              "      <th>title</th>\n",
              "      <th>author</th>\n",
              "      <th>text</th>\n",
              "      <th>label</th>\n",
              "    </tr>\n",
              "  </thead>\n",
              "  <tbody>\n",
              "    <tr>\n",
              "      <th>0</th>\n",
              "      <td>0</td>\n",
              "      <td>House Dem Aide: We Didn’t Even See Comey’s Let...</td>\n",
              "      <td>Darrell Lucus</td>\n",
              "      <td>House Dem Aide: We Didn’t Even See Comey’s Let...</td>\n",
              "      <td>1</td>\n",
              "    </tr>\n",
              "    <tr>\n",
              "      <th>1</th>\n",
              "      <td>1</td>\n",
              "      <td>FLYNN: Hillary Clinton, Big Woman on Campus - ...</td>\n",
              "      <td>Daniel J. Flynn</td>\n",
              "      <td>Ever get the feeling your life circles the rou...</td>\n",
              "      <td>0</td>\n",
              "    </tr>\n",
              "    <tr>\n",
              "      <th>2</th>\n",
              "      <td>2</td>\n",
              "      <td>Why the Truth Might Get You Fired</td>\n",
              "      <td>Consortiumnews.com</td>\n",
              "      <td>Why the Truth Might Get You Fired October 29, ...</td>\n",
              "      <td>1</td>\n",
              "    </tr>\n",
              "    <tr>\n",
              "      <th>3</th>\n",
              "      <td>3</td>\n",
              "      <td>15 Civilians Killed In Single US Airstrike Hav...</td>\n",
              "      <td>Jessica Purkiss</td>\n",
              "      <td>Videos 15 Civilians Killed In Single US Airstr...</td>\n",
              "      <td>1</td>\n",
              "    </tr>\n",
              "    <tr>\n",
              "      <th>4</th>\n",
              "      <td>4</td>\n",
              "      <td>Iranian woman jailed for fictional unpublished...</td>\n",
              "      <td>Howard Portnoy</td>\n",
              "      <td>Print \\nAn Iranian woman has been sentenced to...</td>\n",
              "      <td>1</td>\n",
              "    </tr>\n",
              "  </tbody>\n",
              "</table>\n",
              "</div>\n",
              "    <div class=\"colab-df-buttons\">\n",
              "\n",
              "  <div class=\"colab-df-container\">\n",
              "    <button class=\"colab-df-convert\" onclick=\"convertToInteractive('df-dd2c7522-542f-4a77-b0be-5ef8022f8111')\"\n",
              "            title=\"Convert this dataframe to an interactive table.\"\n",
              "            style=\"display:none;\">\n",
              "\n",
              "  <svg xmlns=\"http://www.w3.org/2000/svg\" height=\"24px\" viewBox=\"0 -960 960 960\">\n",
              "    <path d=\"M120-120v-720h720v720H120Zm60-500h600v-160H180v160Zm220 220h160v-160H400v160Zm0 220h160v-160H400v160ZM180-400h160v-160H180v160Zm440 0h160v-160H620v160ZM180-180h160v-160H180v160Zm440 0h160v-160H620v160Z\"/>\n",
              "  </svg>\n",
              "    </button>\n",
              "\n",
              "  <style>\n",
              "    .colab-df-container {\n",
              "      display:flex;\n",
              "      gap: 12px;\n",
              "    }\n",
              "\n",
              "    .colab-df-convert {\n",
              "      background-color: #E8F0FE;\n",
              "      border: none;\n",
              "      border-radius: 50%;\n",
              "      cursor: pointer;\n",
              "      display: none;\n",
              "      fill: #1967D2;\n",
              "      height: 32px;\n",
              "      padding: 0 0 0 0;\n",
              "      width: 32px;\n",
              "    }\n",
              "\n",
              "    .colab-df-convert:hover {\n",
              "      background-color: #E2EBFA;\n",
              "      box-shadow: 0px 1px 2px rgba(60, 64, 67, 0.3), 0px 1px 3px 1px rgba(60, 64, 67, 0.15);\n",
              "      fill: #174EA6;\n",
              "    }\n",
              "\n",
              "    .colab-df-buttons div {\n",
              "      margin-bottom: 4px;\n",
              "    }\n",
              "\n",
              "    [theme=dark] .colab-df-convert {\n",
              "      background-color: #3B4455;\n",
              "      fill: #D2E3FC;\n",
              "    }\n",
              "\n",
              "    [theme=dark] .colab-df-convert:hover {\n",
              "      background-color: #434B5C;\n",
              "      box-shadow: 0px 1px 3px 1px rgba(0, 0, 0, 0.15);\n",
              "      filter: drop-shadow(0px 1px 2px rgba(0, 0, 0, 0.3));\n",
              "      fill: #FFFFFF;\n",
              "    }\n",
              "  </style>\n",
              "\n",
              "    <script>\n",
              "      const buttonEl =\n",
              "        document.querySelector('#df-dd2c7522-542f-4a77-b0be-5ef8022f8111 button.colab-df-convert');\n",
              "      buttonEl.style.display =\n",
              "        google.colab.kernel.accessAllowed ? 'block' : 'none';\n",
              "\n",
              "      async function convertToInteractive(key) {\n",
              "        const element = document.querySelector('#df-dd2c7522-542f-4a77-b0be-5ef8022f8111');\n",
              "        const dataTable =\n",
              "          await google.colab.kernel.invokeFunction('convertToInteractive',\n",
              "                                                    [key], {});\n",
              "        if (!dataTable) return;\n",
              "\n",
              "        const docLinkHtml = 'Like what you see? Visit the ' +\n",
              "          '<a target=\"_blank\" href=https://colab.research.google.com/notebooks/data_table.ipynb>data table notebook</a>'\n",
              "          + ' to learn more about interactive tables.';\n",
              "        element.innerHTML = '';\n",
              "        dataTable['output_type'] = 'display_data';\n",
              "        await google.colab.output.renderOutput(dataTable, element);\n",
              "        const docLink = document.createElement('div');\n",
              "        docLink.innerHTML = docLinkHtml;\n",
              "        element.appendChild(docLink);\n",
              "      }\n",
              "    </script>\n",
              "  </div>\n",
              "\n",
              "\n",
              "<div id=\"df-4973b088-656a-4c63-805d-5bb538207334\">\n",
              "  <button class=\"colab-df-quickchart\" onclick=\"quickchart('df-4973b088-656a-4c63-805d-5bb538207334')\"\n",
              "            title=\"Suggest charts\"\n",
              "            style=\"display:none;\">\n",
              "\n",
              "<svg xmlns=\"http://www.w3.org/2000/svg\" height=\"24px\"viewBox=\"0 0 24 24\"\n",
              "     width=\"24px\">\n",
              "    <g>\n",
              "        <path d=\"M19 3H5c-1.1 0-2 .9-2 2v14c0 1.1.9 2 2 2h14c1.1 0 2-.9 2-2V5c0-1.1-.9-2-2-2zM9 17H7v-7h2v7zm4 0h-2V7h2v10zm4 0h-2v-4h2v4z\"/>\n",
              "    </g>\n",
              "</svg>\n",
              "  </button>\n",
              "\n",
              "<style>\n",
              "  .colab-df-quickchart {\n",
              "      --bg-color: #E8F0FE;\n",
              "      --fill-color: #1967D2;\n",
              "      --hover-bg-color: #E2EBFA;\n",
              "      --hover-fill-color: #174EA6;\n",
              "      --disabled-fill-color: #AAA;\n",
              "      --disabled-bg-color: #DDD;\n",
              "  }\n",
              "\n",
              "  [theme=dark] .colab-df-quickchart {\n",
              "      --bg-color: #3B4455;\n",
              "      --fill-color: #D2E3FC;\n",
              "      --hover-bg-color: #434B5C;\n",
              "      --hover-fill-color: #FFFFFF;\n",
              "      --disabled-bg-color: #3B4455;\n",
              "      --disabled-fill-color: #666;\n",
              "  }\n",
              "\n",
              "  .colab-df-quickchart {\n",
              "    background-color: var(--bg-color);\n",
              "    border: none;\n",
              "    border-radius: 50%;\n",
              "    cursor: pointer;\n",
              "    display: none;\n",
              "    fill: var(--fill-color);\n",
              "    height: 32px;\n",
              "    padding: 0;\n",
              "    width: 32px;\n",
              "  }\n",
              "\n",
              "  .colab-df-quickchart:hover {\n",
              "    background-color: var(--hover-bg-color);\n",
              "    box-shadow: 0 1px 2px rgba(60, 64, 67, 0.3), 0 1px 3px 1px rgba(60, 64, 67, 0.15);\n",
              "    fill: var(--button-hover-fill-color);\n",
              "  }\n",
              "\n",
              "  .colab-df-quickchart-complete:disabled,\n",
              "  .colab-df-quickchart-complete:disabled:hover {\n",
              "    background-color: var(--disabled-bg-color);\n",
              "    fill: var(--disabled-fill-color);\n",
              "    box-shadow: none;\n",
              "  }\n",
              "\n",
              "  .colab-df-spinner {\n",
              "    border: 2px solid var(--fill-color);\n",
              "    border-color: transparent;\n",
              "    border-bottom-color: var(--fill-color);\n",
              "    animation:\n",
              "      spin 1s steps(1) infinite;\n",
              "  }\n",
              "\n",
              "  @keyframes spin {\n",
              "    0% {\n",
              "      border-color: transparent;\n",
              "      border-bottom-color: var(--fill-color);\n",
              "      border-left-color: var(--fill-color);\n",
              "    }\n",
              "    20% {\n",
              "      border-color: transparent;\n",
              "      border-left-color: var(--fill-color);\n",
              "      border-top-color: var(--fill-color);\n",
              "    }\n",
              "    30% {\n",
              "      border-color: transparent;\n",
              "      border-left-color: var(--fill-color);\n",
              "      border-top-color: var(--fill-color);\n",
              "      border-right-color: var(--fill-color);\n",
              "    }\n",
              "    40% {\n",
              "      border-color: transparent;\n",
              "      border-right-color: var(--fill-color);\n",
              "      border-top-color: var(--fill-color);\n",
              "    }\n",
              "    60% {\n",
              "      border-color: transparent;\n",
              "      border-right-color: var(--fill-color);\n",
              "    }\n",
              "    80% {\n",
              "      border-color: transparent;\n",
              "      border-right-color: var(--fill-color);\n",
              "      border-bottom-color: var(--fill-color);\n",
              "    }\n",
              "    90% {\n",
              "      border-color: transparent;\n",
              "      border-bottom-color: var(--fill-color);\n",
              "    }\n",
              "  }\n",
              "</style>\n",
              "\n",
              "  <script>\n",
              "    async function quickchart(key) {\n",
              "      const quickchartButtonEl =\n",
              "        document.querySelector('#' + key + ' button');\n",
              "      quickchartButtonEl.disabled = true;  // To prevent multiple clicks.\n",
              "      quickchartButtonEl.classList.add('colab-df-spinner');\n",
              "      try {\n",
              "        const charts = await google.colab.kernel.invokeFunction(\n",
              "            'suggestCharts', [key], {});\n",
              "      } catch (error) {\n",
              "        console.error('Error during call to suggestCharts:', error);\n",
              "      }\n",
              "      quickchartButtonEl.classList.remove('colab-df-spinner');\n",
              "      quickchartButtonEl.classList.add('colab-df-quickchart-complete');\n",
              "    }\n",
              "    (() => {\n",
              "      let quickchartButtonEl =\n",
              "        document.querySelector('#df-4973b088-656a-4c63-805d-5bb538207334 button');\n",
              "      quickchartButtonEl.style.display =\n",
              "        google.colab.kernel.accessAllowed ? 'block' : 'none';\n",
              "    })();\n",
              "  </script>\n",
              "</div>\n",
              "\n",
              "    </div>\n",
              "  </div>\n"
            ],
            "application/vnd.google.colaboratory.intrinsic+json": {
              "type": "dataframe",
              "variable_name": "new_data",
              "summary": "{\n  \"name\": \"new_data\",\n  \"rows\": 7338,\n  \"fields\": [\n    {\n      \"column\": \"id\",\n      \"properties\": {\n        \"dtype\": \"number\",\n        \"std\": 2122,\n        \"min\": 0,\n        \"max\": 7351,\n        \"num_unique_values\": 7338,\n        \"samples\": [\n          998,\n          738,\n          1247\n        ],\n        \"semantic_type\": \"\",\n        \"description\": \"\"\n      }\n    },\n    {\n      \"column\": \"title\",\n      \"properties\": {\n        \"dtype\": \"string\",\n        \"num_unique_values\": 7069,\n        \"samples\": [\n          \"Tylenol During Pregnancy Linked to Autism\",\n          \"Mannequin Challenge goes completely unnoticed at Southern Rail\",\n          \"Dredging of Miami Port Badly Damaged Coral Reef, Study Finds - The New York Times\"\n        ],\n        \"semantic_type\": \"\",\n        \"description\": \"\"\n      }\n    },\n    {\n      \"column\": \"author\",\n      \"properties\": {\n        \"dtype\": \"category\",\n        \"num_unique_values\": 2185,\n        \"samples\": [\n          \"Scott Cacciola\",\n          \"Michael Krieger\",\n          \"Robert Koehler\"\n        ],\n        \"semantic_type\": \"\",\n        \"description\": \"\"\n      }\n    },\n    {\n      \"column\": \"text\",\n      \"properties\": {\n        \"dtype\": \"string\",\n        \"num_unique_values\": 7252,\n        \"samples\": [\n          \"Email \\nMidday last Thursday, the price of crude oil for delivery in December touched $50, and it\\u2019s been all downhill since then. At noon on Wednesday crude oil futures touched $45 a barrel on news that inventories soared last week by the most in 34 years. \\nThe market wasn\\u2019t expecting that. It was bad enough that the American Petroleum Institute (API) reported a supply increase nine times greater than analysts and observers were expecting last week. Those market seers were betting on an increase of a million barrels. Instead the API reported the increase was 9.3 million \\u2014 a miss of gigantic proportions. \\nOn Wednesday, however, the Energy Information Administration (EIA) reported that the API\\u2019s estimate was far too low: Inventories last week jumped by 14.4 million barrels, forcing one of those observers, Bob Yawger, director of the futures division of Mizuho Securities USA, to exclaim: \\u201cYou could easily make the argument that [the EIA report is] the most bearish ... of all time.\\u201d He added, \\u201cThere\\u2019s nothing to support the market.\\u201d \\nThe futures market is driven by expectations. Ever since OPEC promised in September that it would have a working plan in place by November to cut production in order to \\u201cbalance\\u201d the market, crude oil futures have slowly inched up. The market managed to resist the temptation to sell off on news that the rig count in the United States was increasing, that the majors were increasing their capital expenditures for 2017, and that DUCs (wells developed but not completed) were coming into production. \\nWhat it couldn\\u2019t do was shrug off the news that Goldman Sachs, in a private memo to its customers (and revealed to Irina Slav at OilPrice.com), suggests that oil is headed for $40 a barrel: \\\"The lack of progress on implementing production quotas and the growing discord between OPEC producers suggests a declining probability of reaching a deal on November 30.\\\" \\nThis is the same company that \\u201csuggested\\u201d that oil could drop into the 20s late last year, which it did, touching $26 a barrel in February before rebounding. \\nOn top of that was the distressing news \\u2014 at least to those banking on higher prices and betting on that outcome \\u2014 that U.S. refiners are operating at only 85 percent of capacity, especially at a time when increased demands over the holidays would usually drive prices higher. \\nAdd to that the news that OPEC members, while meeting privately to hammer together some sort of deal to cut \\u2014 or at least freeze \\u2014 production, are increasing production at the same time. Iran is exempted from any participation in the proposed cuts, and is raising its production back to pre-sanction levels as quickly as it can; Iraq is demanding the same exemption as Iran, claiming that it needs increased revenues to fight ISIS; Russia is going its own way as it isn\\u2019t a member of the cartel; and Libya and Nigeria are merrily ignoring the charade, adding another 800,000 barrels to global supply last month. \\nThe so-called \\u201cbalance\\u201d of the oil markets between supply and demand is many months off, while the futures market is likely to continue its breathtaking selloff to $40 and perhaps even lower. \\n\\nAn Ivy League graduate and former investment advisor, Bob is a regular contributor to The New American magazine and blogs frequently at LightFromTheRight.com, primarily on economics and politics. He can be reached at This email address is being protected from spambots. You need JavaScript enabled to view it. . Please review our Comment Policy before posting a comment \\nThank you for joining the discussion at The New American. We value our readers and encourage their participation, but in order to ensure a positive experience for our readership, we have a few guidelines for commenting on articles. If your post does not follow our policy, it will be deleted. \\nNo profanity, racial slurs, direct threats, or threatening language. \\nNo product advertisements. \\nPlease post comments in English. \\nPlease keep your comments on topic with the article. If you wish to comment on another subject, you may search for a relevant article and join or start a discussion there.\",\n          \"WASHINGTON  \\u2014   The Trump administration is making it tougher for millions of visitors to enter the United States by demanding new security checks before giving visas to tourists, business travelers and relatives of American residents. Diplomatic cables sent last week from Secretary of State Rex W. Tillerson to all American embassies instructed consular officials to broadly increase scrutiny. It was the first evidence of the \\u201cextreme vetting\\u201d Mr. Trump promised during the presidential campaign. The new rules generally do not apply to citizens of 38 countries  \\u2014   including most of Europe and longstanding allies like Australia, New Zealand, Japan and South Korea  \\u2014   who can be speedily admitted into the United States under the visa waiver program. That program does not cover citizens from any country in the Middle East or Africa. Even stricter security checks for people from six predominantly Muslim nations remain on hold because federal courts have temporarily blocked President Trump\\u2019s travel ban. But Mr. Trump and his national security team are not waiting to toughen the rules to decide who can enter the United States. Embassy officials must now scrutinize a broader pool of visa applicants to determine if they pose security risks to the United States, according to four cables sent between March 10 and March 17. That extra scrutiny will include asking applicants detailed questions about their background and making mandatory checks of social media history if a person has ever been in territory controlled by the Islamic State. Mr. Trump has spoken regularly of his concern about the threat of \\u201cradical Islamic terrorism\\u201d from immigrants. But it is unclear who, exactly, will be targeted for the extra scrutiny since Mr. Tillerson\\u2019s cables leave that decision up to security officers at each embassy. Still, taken together, consular officials and immigration advocates said the administration\\u2019s moves will increase the likelihood of denial for those seeking to come to America, and will further slow down a bureaucratic approval process that can already take months or even years for those flagged for extra investigation. In 2016, the United States issued more than 10 million visas. There are legitimate reasons someone might be targeted, such as evidence of a connection to terrorism or crime. But advocates also said they worry about people being profiled for extra scrutiny because of their name or nationality. \\u201cThis will certainly slow down the screening process and impose a substantial burden on these applicants,\\u201d said Greg Chen, the director of advocacy for the American Immigration Lawyers Association. \\u201cIt will make it much harder and create substantial delays. \\u201d The cables from Mr. Tillerson, which were reported by Reuters, make clear that the Trump administration wants a more intense focus on the potential for a serious threat when making decisions about who should receive a visa. \\u201cConsular officers should not hesitate to refuse any case presenting security concerns,\\u201d Mr. Tillerson wrote in the cables, titled \\u201cImplementing Immediate Heightened Screening and Vetting of Visa Applications. \\u201d \\u201cAll visa decisions are national security decisions,\\u201d the secretary of state added. During his presidential campaign, Mr. Trump accused the Obama administration of failing to properly screen people coming into the United States, a claim former officials in that administration reject. As a candidate, Mr. Trump vowed to ban all incoming Muslims until leaders could \\u201cfigure out what the hell is going on. \\u201d Later, he backed away from a total ban on Muslims but promised \\u201cextreme vetting\\u201d of those trying to come to the United States. The president\\u2019s first attempt to put tougher screening in place was the executive order aimed at temporarily blocking refugees and people whom Mr. Trump called \\u201cbad dudes\\u201d from predominantly Muslim countries. Courts blocked the first version of the president\\u2019s order after a chaotic rollout just days into his term. A second order was blocked this month. But on March 6, the same day that Mr. Trump issued his revised travel ban, he also wrote a presidential memorandum ordering the secretary of state, the attorney general and the secretary of homeland security to \\u201cimplement protocols and procedures\\u201d to enhance visa screening. Administration officials said the cables from Mr. Tillerson are among the actions being taken to carry out that memorandum. Mark Toner, a State Department spokesman, said the steps aim \\u201cto more effectively identify individuals who could pose a threat to the United States. \\u201d Most people seeking entry to the United States, for family, business or tourism reasons, must apply for a visa. Embassy officials can deny a visa for anyone suspected of being a threat, conducting fraud or planning to stay longer than allowed. The   unclassified cable that Mr. Tillerson sent on March 15, which was provided to The New York Times, makes clear that the process of securing an entry visa is about to get harder and longer at diplomatic posts around the globe. \\u201cConsular chiefs must immediately convene post\\u2019s law enforcement and intelligence community partners\\u201d to develop what Mr. Tillerson described in the cable as \\u201csets of   populations warranting increased scrutiny. \\u201d People targeted for increased scrutiny, Mr. Tillerson said in his cable, may be subject to a decision made only after more rigorous screening. The March 15 cable suggests areas of inquiry during a required interview, including: the applicant\\u2019s travel history, addresses and work history for 15 years and all phone numbers, email addresses and social media handles used by the applicant in the past five years. Another cable, sent two days later, indicated that consular officers should not begin asking for the   travel and work histories until the State Department received authorization for those questions from the Office of Management and Budget. It is unclear why that permission had not been granted. The State Department also urged its embassy officials to delay or reschedule interviews if an applicant was unable to provide all of the information demanded. And Mr. Tillerson acknowledged in the cables that the extra scrutiny would cause \\u201cbacklogs to rise,\\u201d even as he recommended that officials should each interview no more than 120 visa applicants each day. Mr. Chen, of the American Immigration Lawyers Association, questioned how a single interviewer who conducts 120 interviews per day  \\u2014   at about five minutes per interview  \\u2014   could improve security for the visa process. \\u201cIt\\u2019s highly unlikely they could obtain information that demonstrates whether someone is a national security threat in such a brief interview process,\\u201d he said. In addition to the new security protocols for embassies, the four diplomatic cables sent last week offer a view into how the administration hopes to enact the travel ban if the president ever gets the chance. The March 15 cable, which was sent before federal courts blocked the revised travel ban, increases scrutiny on people from the six countries in the president\\u2019s executive order: Iran, Yemen, Sudan, Syria, Somalia and Libya. It also includes a section calling for increased scrutiny for Iraqi nationals. For those from the six countries covered in the ban, the cable envisions a process for potentially granting a limited number of exemptions from the ban by issuing a waiver, but only after vigorous screening. Those people would be questioned about their past 15 years of travel and occupational history, as well as whether they have visited territory controlled by the Islamic State. A March 16 cable suspended \\u201call enforcement\\u201d regarding the tougher scrutiny on the countries from Mr. Trump\\u2019s executive order.\",\n          \"On Wednesday\\u2019s broadcast of CNN\\u2019s \\u201cNew Day,\\u201d Senator Al Franken ( ) stated that he would still appear with comedian Kathy Griffin, and denounced the picture depicting her holding up President Trump\\u2019s severed head as something that \\u201chad no business\\u201d being in the public discourse and a \\u201chorrible mistake. \\u201d  Franken said that Griffin deserved to be denounced for the picture, and that he thought she went too far. He added, \\u201cKathy is a friend, and she\\u2019s a terrific comedian, but what  \\u2014   this had no business being in our public discourse. And I talked to her. She apologized, a real fulsome apology. She\\u2019s actually begged for forgiveness, and I believe in forgiveness. \\u201d Franken further stated, \\u201cI think she did the right thing. I think asking for forgiveness and acknowledging that this  \\u2014   this was a horrible mistake. \\u201d Interviewer Alisyn Camerota then asked Franken, \\u201cAnd you\\u2019re still going to appear with her?\\u201d He responded, \\u201cYes. \\u201d (  GOP War Room) Follow Ian Hanchett on Twitter @IanHanchett\"\n        ],\n        \"semantic_type\": \"\",\n        \"description\": \"\"\n      }\n    },\n    {\n      \"column\": \"label\",\n      \"properties\": {\n        \"dtype\": \"number\",\n        \"std\": 0,\n        \"min\": 0,\n        \"max\": 1,\n        \"num_unique_values\": 2,\n        \"samples\": [\n          0,\n          1\n        ],\n        \"semantic_type\": \"\",\n        \"description\": \"\"\n      }\n    }\n  ]\n}"
            }
          },
          "metadata": {},
          "execution_count": 26
        }
      ]
    },
    {
      "cell_type": "code",
      "source": [
        "#create new_column\n",
        "new_data['content'] = new_data['author']+' '+new_data['title']"
      ],
      "metadata": {
        "id": "IzTzBMsvFNoJ"
      },
      "execution_count": 27,
      "outputs": []
    },
    {
      "cell_type": "code",
      "source": [
        "print(new_data['content'])"
      ],
      "metadata": {
        "colab": {
          "base_uri": "https://localhost:8080/"
        },
        "id": "1dcdx0WaFNlp",
        "outputId": "beee96c6-01f0-4a08-d411-782f1db20be7"
      },
      "execution_count": 28,
      "outputs": [
        {
          "output_type": "stream",
          "name": "stdout",
          "text": [
            "0       Darrell Lucus House Dem Aide: We Didn’t Even S...\n",
            "1       Daniel J. Flynn FLYNN: Hillary Clinton, Big Wo...\n",
            "2       Consortiumnews.com Why the Truth Might Get You...\n",
            "3       Jessica Purkiss 15 Civilians Killed In Single ...\n",
            "4       Howard Portnoy Iranian woman jailed for fictio...\n",
            "                              ...                        \n",
            "7347    Christopher Mele How to Save Money (and Hassle...\n",
            "7348    Jeff Poor Bill Cosby Spokesman to Gloria Allre...\n",
            "7349    Nicholas Fandos Trump Calls Press ‘Dishonest,’...\n",
            "7350       The Saker CrossTalk: Bullhorns Electioneering!\n",
            "7351    Breitbart London Barcelona: Police Open Fire o...\n",
            "Name: content, Length: 7338, dtype: object\n"
          ]
        }
      ]
    },
    {
      "cell_type": "code",
      "source": [
        "#separating data\n",
        "X = new_data.drop(columns='label', axis=1)\n",
        "Y = new_data['label']"
      ],
      "metadata": {
        "id": "3-e0zhH7FNep"
      },
      "execution_count": 29,
      "outputs": []
    },
    {
      "cell_type": "code",
      "source": [
        "print(X)\n",
        "print(Y)"
      ],
      "metadata": {
        "colab": {
          "base_uri": "https://localhost:8080/"
        },
        "id": "WJ_mbH56FNaC",
        "outputId": "11b75861-21cc-4e55-d6f9-b773868ba005"
      },
      "execution_count": 30,
      "outputs": [
        {
          "output_type": "stream",
          "name": "stdout",
          "text": [
            "        id                                              title  \\\n",
            "0        0  House Dem Aide: We Didn’t Even See Comey’s Let...   \n",
            "1        1  FLYNN: Hillary Clinton, Big Woman on Campus - ...   \n",
            "2        2                  Why the Truth Might Get You Fired   \n",
            "3        3  15 Civilians Killed In Single US Airstrike Hav...   \n",
            "4        4  Iranian woman jailed for fictional unpublished...   \n",
            "...    ...                                                ...   \n",
            "7347  7347  How to Save Money (and Hassles) on Your Black ...   \n",
            "7348  7348  Bill Cosby Spokesman to Gloria Allred: ’Go Bac...   \n",
            "7349  7349  Trump Calls Press ‘Dishonest,’ Then Utters Fal...   \n",
            "7350  7350               CrossTalk: Bullhorns Electioneering!   \n",
            "7351  7351  Barcelona: Police Open Fire on Stolen Gas Truc...   \n",
            "\n",
            "                  author                                               text  \\\n",
            "0          Darrell Lucus  House Dem Aide: We Didn’t Even See Comey’s Let...   \n",
            "1        Daniel J. Flynn  Ever get the feeling your life circles the rou...   \n",
            "2     Consortiumnews.com  Why the Truth Might Get You Fired October 29, ...   \n",
            "3        Jessica Purkiss  Videos 15 Civilians Killed In Single US Airstr...   \n",
            "4         Howard Portnoy  Print \\nAn Iranian woman has been sentenced to...   \n",
            "...                  ...                                                ...   \n",
            "7347    Christopher Mele  If the idea of Black Friday shopping gives you...   \n",
            "7348           Jeff Poor  Saturday after Montgomery County, PA Judge Ste...   \n",
            "7349     Nicholas Fandos  WASHINGTON  —   President Trump took aim at re...   \n",
            "7350           The Saker  1 Comment on \"CrossTalk: Bullhorns Electioneer...   \n",
            "7351    Breitbart London  MADRID (AP)  —   Police in Barcelona fired gun...   \n",
            "\n",
            "                                                content  \n",
            "0     Darrell Lucus House Dem Aide: We Didn’t Even S...  \n",
            "1     Daniel J. Flynn FLYNN: Hillary Clinton, Big Wo...  \n",
            "2     Consortiumnews.com Why the Truth Might Get You...  \n",
            "3     Jessica Purkiss 15 Civilians Killed In Single ...  \n",
            "4     Howard Portnoy Iranian woman jailed for fictio...  \n",
            "...                                                 ...  \n",
            "7347  Christopher Mele How to Save Money (and Hassle...  \n",
            "7348  Jeff Poor Bill Cosby Spokesman to Gloria Allre...  \n",
            "7349  Nicholas Fandos Trump Calls Press ‘Dishonest,’...  \n",
            "7350     The Saker CrossTalk: Bullhorns Electioneering!  \n",
            "7351  Breitbart London Barcelona: Police Open Fire o...  \n",
            "\n",
            "[7338 rows x 5 columns]\n",
            "0       1\n",
            "1       0\n",
            "2       1\n",
            "3       1\n",
            "4       1\n",
            "       ..\n",
            "7347    0\n",
            "7348    0\n",
            "7349    0\n",
            "7350    1\n",
            "7351    0\n",
            "Name: label, Length: 7338, dtype: int64\n"
          ]
        }
      ]
    },
    {
      "cell_type": "code",
      "source": [
        "X.drop('id',axis=1,inplace=True)"
      ],
      "metadata": {
        "id": "h08rLeLtFNVR"
      },
      "execution_count": 33,
      "outputs": []
    },
    {
      "cell_type": "markdown",
      "source": [
        "**Stemming**"
      ],
      "metadata": {
        "id": "S9mhMUtkRP5c"
      }
    },
    {
      "cell_type": "code",
      "source": [
        "port=PorterStemmer()\n"
      ],
      "metadata": {
        "id": "MKgSsie8FMxh"
      },
      "execution_count": 34,
      "outputs": []
    },
    {
      "cell_type": "code",
      "source": [
        "def stemming(content):\n",
        "  stemmed = re.sub('[^a-zA-Z]',' ',content) #remove all punctuation\n",
        "  stemmed = stemmed.lower() #miniscule\n",
        "  stemmed = stemmed.split()\n",
        "  stemmed = [port.stem(word) for word in stemmed if not word in stopwords.words('english')]\n",
        "  stemmed = ' '.join(stemmed)\n",
        "  return stemmed\n"
      ],
      "metadata": {
        "id": "t1tbNSTdRuvq"
      },
      "execution_count": 36,
      "outputs": []
    },
    {
      "cell_type": "code",
      "source": [
        "new_data['content'] = new_data['content'].apply(stemming)"
      ],
      "metadata": {
        "id": "Sp5unVnkSzdZ"
      },
      "execution_count": 37,
      "outputs": []
    },
    {
      "cell_type": "code",
      "source": [
        "print(new_data['content'])"
      ],
      "metadata": {
        "colab": {
          "base_uri": "https://localhost:8080/"
        },
        "id": "8yZ_dEFdVE_7",
        "outputId": "c3c0109e-9d4a-4821-c814-370451ee55c0"
      },
      "execution_count": 38,
      "outputs": [
        {
          "output_type": "stream",
          "name": "stdout",
          "text": [
            "0       darrel lucu hous dem aid even see comey letter...\n",
            "1       daniel j flynn flynn hillari clinton big woman...\n",
            "2                  consortiumnew com truth might get fire\n",
            "3       jessica purkiss civilian kill singl us airstri...\n",
            "4       howard portnoy iranian woman jail fiction unpu...\n",
            "                              ...                        \n",
            "7347    christoph mele save money hassl black friday s...\n",
            "7348    jeff poor bill cosbi spokesman gloria allr go ...\n",
            "7349    nichola fando trump call press dishonest utter...\n",
            "7350                    saker crosstalk bullhorn election\n",
            "7351    breitbart london barcelona polic open fire sto...\n",
            "Name: content, Length: 7338, dtype: object\n"
          ]
        }
      ]
    },
    {
      "cell_type": "code",
      "source": [
        "#we use only content\n",
        "X=new_data['content'].values\n",
        "Y=new_data['label'].values"
      ],
      "metadata": {
        "id": "WIdq0TkUVW_H"
      },
      "execution_count": 39,
      "outputs": []
    },
    {
      "cell_type": "code",
      "source": [
        "print(X)"
      ],
      "metadata": {
        "colab": {
          "base_uri": "https://localhost:8080/"
        },
        "id": "y0uciCtKV4MB",
        "outputId": "47554ad9-7254-4c37-bcfc-cb62f53af062"
      },
      "execution_count": 40,
      "outputs": [
        {
          "output_type": "stream",
          "name": "stdout",
          "text": [
            "['darrel lucu hous dem aid even see comey letter jason chaffetz tweet'\n",
            " 'daniel j flynn flynn hillari clinton big woman campu breitbart'\n",
            " 'consortiumnew com truth might get fire' ...\n",
            " 'nichola fando trump call press dishonest utter falsehood new york time'\n",
            " 'saker crosstalk bullhorn election'\n",
            " 'breitbart london barcelona polic open fire stolen ga truck speed wrong way street']\n"
          ]
        }
      ]
    },
    {
      "cell_type": "code",
      "source": [
        "print(Y)"
      ],
      "metadata": {
        "colab": {
          "base_uri": "https://localhost:8080/"
        },
        "id": "wyorzZAvV7jH",
        "outputId": "64b71660-a0d4-4f6e-c461-58e1f066bea8"
      },
      "execution_count": 41,
      "outputs": [
        {
          "output_type": "stream",
          "name": "stdout",
          "text": [
            "[1 0 1 ... 0 1 0]\n"
          ]
        }
      ]
    },
    {
      "cell_type": "code",
      "source": [
        "Y.shape"
      ],
      "metadata": {
        "colab": {
          "base_uri": "https://localhost:8080/"
        },
        "id": "gE5f7HgfWElH",
        "outputId": "9193f114-84e2-460f-cae9-b285c0af32cd"
      },
      "execution_count": 42,
      "outputs": [
        {
          "output_type": "execute_result",
          "data": {
            "text/plain": [
              "(7338,)"
            ]
          },
          "metadata": {},
          "execution_count": 42
        }
      ]
    },
    {
      "cell_type": "markdown",
      "source": [
        "**convert text into matrix**"
      ],
      "metadata": {
        "id": "5YaVyDoCWKI7"
      }
    },
    {
      "cell_type": "code",
      "source": [
        "tf=TfidfVectorizer()\n",
        "X=tf.fit_transform(X)"
      ],
      "metadata": {
        "id": "nO1jTyyxWIZJ"
      },
      "execution_count": 43,
      "outputs": []
    },
    {
      "cell_type": "code",
      "source": [
        "print(X)"
      ],
      "metadata": {
        "colab": {
          "base_uri": "https://localhost:8080/"
        },
        "id": "NiN6ZfkUXbmN",
        "outputId": "b20e5a2f-cb1d-4499-9548-dc3ac3e9111f"
      },
      "execution_count": 45,
      "outputs": [
        {
          "output_type": "stream",
          "name": "stdout",
          "text": [
            "  (0, 2295)\t0.34603928837387665\n",
            "  (0, 5600)\t0.34603928837387665\n",
            "  (0, 4417)\t0.222432377802365\n",
            "  (0, 2419)\t0.26914716989384746\n",
            "  (0, 184)\t0.273612557362823\n",
            "  (0, 3142)\t0.23794750078734786\n",
            "  (0, 8418)\t0.2605146859666486\n",
            "  (0, 1885)\t0.24650426783674267\n",
            "  (0, 5423)\t0.29244185722461014\n",
            "  (0, 4842)\t0.25258381943244756\n",
            "  (0, 1585)\t0.3828961821148579\n",
            "  (0, 9810)\t0.28731837346213057\n",
            "  (1, 2275)\t0.27268888090869137\n",
            "  (1, 3492)\t0.7224360358196773\n",
            "  (1, 4307)\t0.18983646939465887\n",
            "  (1, 1788)\t0.18949770627065488\n",
            "  (1, 968)\t0.286402912300127\n",
            "  (1, 10451)\t0.28966582126173024\n",
            "  (1, 1427)\t0.3779546605663311\n",
            "  (1, 1214)\t0.15164775289732926\n",
            "  (2, 1989)\t0.4613645235153618\n",
            "  (2, 1872)\t0.3201007240203953\n",
            "  (2, 9765)\t0.42086170284649527\n",
            "  (2, 6034)\t0.4919860347112601\n",
            "  (2, 3782)\t0.34366624258290107\n",
            "  :\t:\n",
            "  (7335, 9561)\t0.10513349330168473\n",
            "  (7335, 7369)\t0.2931506452790562\n",
            "  (7335, 1405)\t0.25025124427531387\n",
            "  (7335, 6480)\t0.2941742057033471\n",
            "  (7335, 3280)\t0.36054856792077794\n",
            "  (7335, 3271)\t0.4279464905624996\n",
            "  (7335, 2615)\t0.447659119248456\n",
            "  (7335, 10019)\t0.447659119248456\n",
            "  (7336, 8207)\t0.4073464000987138\n",
            "  (7336, 2173)\t0.5114556368582116\n",
            "  (7336, 1316)\t0.5350149726187949\n",
            "  (7336, 2920)\t0.5350149726187949\n",
            "  (7337, 1214)\t0.12791117575196903\n",
            "  (7337, 3420)\t0.23775707113593986\n",
            "  (7337, 6711)\t0.24091312714535498\n",
            "  (7337, 10276)\t0.24651553856462727\n",
            "  (7337, 5544)\t0.24651553856462727\n",
            "  (7337, 3660)\t0.2941344872732796\n",
            "  (7337, 9749)\t0.31879552509232856\n",
            "  (7337, 7240)\t0.21489046770931605\n",
            "  (7337, 9133)\t0.2627845371590802\n",
            "  (7337, 9104)\t0.32321600588310123\n",
            "  (7337, 10501)\t0.2876669779335004\n",
            "  (7337, 8925)\t0.3281576829748198\n",
            "  (7337, 765)\t0.38632072019446306\n"
          ]
        }
      ]
    },
    {
      "cell_type": "markdown",
      "source": [
        "**Splitting**"
      ],
      "metadata": {
        "id": "_qCq4MSBZf8a"
      }
    },
    {
      "cell_type": "code",
      "source": [
        "x_train,x_test,y_train,y_test=train_test_split(X,Y,test_size=0.2,stratify=Y,random_state=2)"
      ],
      "metadata": {
        "id": "K9_rRPGdXbj8"
      },
      "execution_count": 46,
      "outputs": []
    },
    {
      "cell_type": "code",
      "source": [
        "lg=LogisticRegression()\n",
        "model=lg.fit(x_train,y_train)\n",
        "\n"
      ],
      "metadata": {
        "id": "41RksgQVXbhi"
      },
      "execution_count": 47,
      "outputs": []
    },
    {
      "cell_type": "code",
      "source": [
        "x_train_pred=model.predict(x_train)\n",
        "training_data_accuracy=accuracy_score(x_train_pred,y_train)\n",
        "print(training_data_accuracy)"
      ],
      "metadata": {
        "colab": {
          "base_uri": "https://localhost:8080/"
        },
        "id": "5MoLb1YnjoNj",
        "outputId": "95dae306-4925-402c-cec5-0af5892588ab"
      },
      "execution_count": 50,
      "outputs": [
        {
          "output_type": "stream",
          "name": "stdout",
          "text": [
            "0.9841567291311755\n"
          ]
        }
      ]
    },
    {
      "cell_type": "code",
      "source": [
        "y_pred= model.predict(x_test)"
      ],
      "metadata": {
        "id": "aMdYuFH7f3th"
      },
      "execution_count": 48,
      "outputs": []
    },
    {
      "cell_type": "code",
      "source": [
        "print(y_pred)\n",
        "accuracy_score(y_test,y_pred)"
      ],
      "metadata": {
        "colab": {
          "base_uri": "https://localhost:8080/"
        },
        "id": "RtS2cbX_eQ_3",
        "outputId": "03ee63f0-27d2-4f1a-e2c9-84336bd635ef"
      },
      "execution_count": 51,
      "outputs": [
        {
          "output_type": "stream",
          "name": "stdout",
          "text": [
            "[0 1 1 ... 1 1 0]\n"
          ]
        },
        {
          "output_type": "execute_result",
          "data": {
            "text/plain": [
              "0.9564032697547684"
            ]
          },
          "metadata": {},
          "execution_count": 51
        }
      ]
    },
    {
      "cell_type": "code",
      "source": [
        "#show the confusion matrix\n",
        "confusion_matrix(y_test,y_pred)"
      ],
      "metadata": {
        "colab": {
          "base_uri": "https://localhost:8080/"
        },
        "id": "Ui6Ch-zEeQ9H",
        "outputId": "f816ade2-2bda-44f4-cb7e-dd7417a897cd"
      },
      "execution_count": 52,
      "outputs": [
        {
          "output_type": "execute_result",
          "data": {
            "text/plain": [
              "array([[678,  57],\n",
              "       [  7, 726]])"
            ]
          },
          "metadata": {},
          "execution_count": 52
        }
      ]
    },
    {
      "cell_type": "code",
      "source": [
        "#show the rapport\n",
        "from sklearn.metrics import classification_report\n",
        "print(classification_report(y_test,y_pred))"
      ],
      "metadata": {
        "colab": {
          "base_uri": "https://localhost:8080/"
        },
        "id": "kD45sNEKePj-",
        "outputId": "8b6264e4-d9e5-4b8e-ef66-e4d7029cec5f"
      },
      "execution_count": 53,
      "outputs": [
        {
          "output_type": "stream",
          "name": "stdout",
          "text": [
            "              precision    recall  f1-score   support\n",
            "\n",
            "           0       0.99      0.92      0.95       735\n",
            "           1       0.93      0.99      0.96       733\n",
            "\n",
            "    accuracy                           0.96      1468\n",
            "   macro avg       0.96      0.96      0.96      1468\n",
            "weighted avg       0.96      0.96      0.96      1468\n",
            "\n"
          ]
        }
      ]
    },
    {
      "cell_type": "markdown",
      "source": [
        "**Making predective system**"
      ],
      "metadata": {
        "id": "sTy0uU0Fr8XO"
      }
    },
    {
      "cell_type": "code",
      "source": [
        "def prediction(input_data):\n",
        "  input_data = stemming(input_data)\n",
        "  input_data = tf.transform([input_data])\n",
        "  prediction = model.predict(input_data)\n",
        "  if prediction[0] == 0:\n",
        "    print('The news is Real')\n",
        "  else:\n",
        "    print('The news is Fake')"
      ],
      "metadata": {
        "id": "h1sCuslzePhe"
      },
      "execution_count": 56,
      "outputs": []
    },
    {
      "cell_type": "code",
      "source": [
        "prediction(\"Rebecca Solnit :Les incendies de forêt en Californie continuent de ravager des milliers d’hectares, forçant des milliers de résidents à évacuer leurs maisons. Les pompiers luttent contre les flammes depuis plusieurs jours, mais les conditions météorologiques difficiles compliquent leurs efforts. Les autorités locales ont déclaré l’état d’urgence et demandent aux habitants de suivre les consignes d’évacuation pour assurer leur sécurité.\")"
      ],
      "metadata": {
        "colab": {
          "base_uri": "https://localhost:8080/"
        },
        "id": "iOU34IdhePem",
        "outputId": "ab6ad3c0-bd1e-451b-d1c9-2ae0467d1183"
      },
      "execution_count": 59,
      "outputs": [
        {
          "output_type": "stream",
          "name": "stdout",
          "text": [
            "The news is Fake\n"
          ]
        }
      ]
    },
    {
      "cell_type": "code",
      "source": [],
      "metadata": {
        "id": "iNuaTvAZePTv"
      },
      "execution_count": null,
      "outputs": []
    },
    {
      "cell_type": "code",
      "source": [],
      "metadata": {
        "id": "RBCiwlsKeEH2"
      },
      "execution_count": null,
      "outputs": []
    },
    {
      "cell_type": "code",
      "source": [],
      "metadata": {
        "id": "Wul1rAhYeEF_"
      },
      "execution_count": null,
      "outputs": []
    },
    {
      "cell_type": "code",
      "source": [],
      "metadata": {
        "id": "e7oLfdjLeEDu"
      },
      "execution_count": null,
      "outputs": []
    },
    {
      "cell_type": "code",
      "source": [],
      "metadata": {
        "id": "d7yDyWo1eD_X"
      },
      "execution_count": null,
      "outputs": []
    },
    {
      "cell_type": "code",
      "source": [],
      "metadata": {
        "id": "C1HVjrCxeD9F"
      },
      "execution_count": null,
      "outputs": []
    },
    {
      "cell_type": "code",
      "source": [],
      "metadata": {
        "id": "A-iYzFLgeD6u"
      },
      "execution_count": null,
      "outputs": []
    },
    {
      "cell_type": "code",
      "source": [],
      "metadata": {
        "id": "9c_qWLI0XbfB"
      },
      "execution_count": null,
      "outputs": []
    },
    {
      "cell_type": "code",
      "source": [],
      "metadata": {
        "id": "RluDeQlIXbaq"
      },
      "execution_count": null,
      "outputs": []
    },
    {
      "cell_type": "code",
      "source": [],
      "metadata": {
        "id": "y2O0qTrrXbYt"
      },
      "execution_count": null,
      "outputs": []
    },
    {
      "cell_type": "code",
      "source": [],
      "metadata": {
        "id": "d1hlSiU6XbWQ"
      },
      "execution_count": null,
      "outputs": []
    },
    {
      "cell_type": "code",
      "source": [],
      "metadata": {
        "id": "dFmSCwKqXbTk"
      },
      "execution_count": null,
      "outputs": []
    },
    {
      "cell_type": "code",
      "source": [],
      "metadata": {
        "id": "WJnt_7SSXbFR"
      },
      "execution_count": null,
      "outputs": []
    }
  ]
}