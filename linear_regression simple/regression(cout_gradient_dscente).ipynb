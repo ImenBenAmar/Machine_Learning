{
  "cells": [
    {
      "cell_type": "code",
      "execution_count": 1,
      "metadata": {
        "id": "kFft9Ikf8c_u"
      },
      "outputs": [],
      "source": [
        "import numpy as np\n",
        "import matplotlib.pyplot as plt\n",
        "from sklearn.datasets import make_regression"
      ]
    },
    {
      "cell_type": "markdown",
      "metadata": {
        "id": "61tsgzlO8c_w"
      },
      "source": [
        "1-Dataset"
      ]
    },
    {
      "cell_type": "code",
      "execution_count": 21,
      "metadata": {
        "id": "atrUx8wX8c_y"
      },
      "outputs": [],
      "source": [
        "np.random.seed(0) # pour toujours reproduire le meme dataset\n",
        "x,y=make_regression(n_samples=100,n_features=1,noise=10)\n"
      ]
    },
    {
      "cell_type": "markdown",
      "metadata": {
        "id": "Ofuim0wJ8c_y"
      },
      "source": [
        "observer data"
      ]
    },
    {
      "cell_type": "code",
      "execution_count": 22,
      "metadata": {
        "colab": {
          "base_uri": "https://localhost:8080/",
          "height": 448
        },
        "id": "shjEVkk98c_z",
        "outputId": "bf86d6b0-7dd4-4266-a012-104a06d24427"
      },
      "outputs": [
        {
          "output_type": "execute_result",
          "data": {
            "text/plain": [
              "<matplotlib.collections.PathCollection at 0x7b276cc36770>"
            ]
          },
          "metadata": {},
          "execution_count": 22
        },
        {
          "output_type": "display_data",
          "data": {
            "text/plain": [
              "<Figure size 640x480 with 1 Axes>"
            ],
            "image/png": "[encoded data removed]"
          },
          "metadata": {}
        }
      ],
      "source": [
        "plt.scatter(x,y)"
      ]
    },
    {
      "cell_type": "code",
      "execution_count": 4,
      "metadata": {
        "colab": {
          "base_uri": "https://localhost:8080/"
        },
        "id": "L76VIc6e8c_0",
        "outputId": "be7be181-30aa-4b42-9846-f3a7e0bd1ed5"
      },
      "outputs": [
        {
          "output_type": "stream",
          "name": "stdout",
          "text": [
            "(100, 1)\n",
            "(100,)\n"
          ]
        },
        {
          "output_type": "execute_result",
          "data": {
            "text/plain": [
              "array([[ 0.01739446],\n",
              "       [ 0.30446653],\n",
              "       [-0.84197375],\n",
              "       [-0.17602019],\n",
              "       [ 0.69069949],\n",
              "       [-0.54291691],\n",
              "       [ 0.34728489],\n",
              "       [-0.48321612],\n",
              "       [ 0.52197119],\n",
              "       [ 1.94078407],\n",
              "       [ 0.52530082],\n",
              "       [ 0.57205674],\n",
              "       [-0.41995423],\n",
              "       [-1.23682115],\n",
              "       [-1.3349793 ],\n",
              "       [-1.22751784],\n",
              "       [-0.46190578],\n",
              "       [ 0.23025461],\n",
              "       [-0.67152648],\n",
              "       [ 1.37400352],\n",
              "       [-0.91958701],\n",
              "       [ 1.23476333],\n",
              "       [-0.61674912],\n",
              "       [-0.14334992],\n",
              "       [ 0.36929895],\n",
              "       [ 0.36189807],\n",
              "       [ 1.07789325],\n",
              "       [ 1.10850669],\n",
              "       [ 0.26602746],\n",
              "       [-0.37452104],\n",
              "       [-0.24384355],\n",
              "       [ 0.67754436],\n",
              "       [ 0.41351826],\n",
              "       [ 0.85640646],\n",
              "       [ 0.42133359],\n",
              "       [-1.12626482],\n",
              "       [-0.04925772],\n",
              "       [-0.12296298],\n",
              "       [-1.14675111],\n",
              "       [-0.37056117],\n",
              "       [ 2.32158681],\n",
              "       [-2.76061917],\n",
              "       [-2.23054227],\n",
              "       [ 0.59298668],\n",
              "       [ 0.62743959],\n",
              "       [ 0.31169288],\n",
              "       [ 1.69482133],\n",
              "       [-0.24482396],\n",
              "       [ 1.15585705],\n",
              "       [-0.10024556],\n",
              "       [-1.7374077 ],\n",
              "       [ 0.32736248],\n",
              "       [-1.53188063],\n",
              "       [ 0.09673678],\n",
              "       [ 1.78922746],\n",
              "       [-0.03723499],\n",
              "       [ 0.66797986],\n",
              "       [ 1.7436241 ],\n",
              "       [ 1.81110511],\n",
              "       [ 0.28597136],\n",
              "       [-0.51875646],\n",
              "       [ 0.82529933],\n",
              "       [-1.40820764],\n",
              "       [-1.62494274],\n",
              "       [ 0.01277278],\n",
              "       [-0.25189893],\n",
              "       [-2.63248041],\n",
              "       [ 0.17783848],\n",
              "       [ 1.57962921],\n",
              "       [ 0.24444313],\n",
              "       [ 0.52481254],\n",
              "       [ 1.15730897],\n",
              "       [ 0.44060367],\n",
              "       [-0.11352719],\n",
              "       [-2.21073664],\n",
              "       [ 0.74208883],\n",
              "       [ 0.15698647],\n",
              "       [-0.92126192],\n",
              "       [ 1.78450286],\n",
              "       [ 0.80359963],\n",
              "       [ 0.26160946],\n",
              "       [-1.02291739],\n",
              "       [ 0.6074074 ],\n",
              "       [ 0.23211618],\n",
              "       [-0.50294396],\n",
              "       [ 1.28319789],\n",
              "       [ 0.7796237 ],\n",
              "       [ 1.07020888],\n",
              "       [-0.33806127],\n",
              "       [-0.12478121],\n",
              "       [-0.81987203],\n",
              "       [ 0.85559027],\n",
              "       [ 0.12255482],\n",
              "       [ 2.87129419],\n",
              "       [-1.06115173],\n",
              "       [ 0.45742742],\n",
              "       [ 0.06087021],\n",
              "       [ 0.57776161],\n",
              "       [ 0.07371794],\n",
              "       [ 0.98075906]])"
            ]
          },
          "metadata": {},
          "execution_count": 4
        }
      ],
      "source": [
        "print(x.shape)\n",
        "print(y.shape)\n",
        "x"
      ]
    },
    {
      "cell_type": "markdown",
      "metadata": {
        "id": "mOT19QPS8c_0"
      },
      "source": [
        "reshape y a cause manque de dimension"
      ]
    },
    {
      "cell_type": "code",
      "execution_count": 23,
      "metadata": {
        "colab": {
          "base_uri": "https://localhost:8080/"
        },
        "id": "aGtbo96I8c_1",
        "outputId": "d26394d9-ae1c-44e6-dde4-8103c9233ffa"
      },
      "outputs": [
        {
          "output_type": "execute_result",
          "data": {
            "text/plain": [
              "array([[-1.99558856e+01],\n",
              "       [ 2.13397727e+01],\n",
              "       [ 1.15568946e+01],\n",
              "       [-1.63420692e+01],\n",
              "       [-3.57006385e+01],\n",
              "       [ 2.79953955e+01],\n",
              "       [-5.63235304e+01],\n",
              "       [ 1.76104141e+01],\n",
              "       [ 2.14510620e+01],\n",
              "       [-2.23528647e+01],\n",
              "       [-2.74674636e+01],\n",
              "       [ 9.30231368e+00],\n",
              "       [-7.64902562e+01],\n",
              "       [-2.83346523e+01],\n",
              "       [ 3.06916745e+01],\n",
              "       [ 6.04429895e+01],\n",
              "       [-5.12662959e+00],\n",
              "       [ 7.38599937e+01],\n",
              "       [ 8.02758700e+01],\n",
              "       [-2.38147640e+01],\n",
              "       [ 5.17924631e+01],\n",
              "       [ 7.74719877e+01],\n",
              "       [ 2.65538141e-01],\n",
              "       [ 1.41668399e+01],\n",
              "       [ 4.51707474e+01],\n",
              "       [ 5.57976548e+01],\n",
              "       [ 8.68235998e+01],\n",
              "       [ 1.25549501e+01],\n",
              "       [ 2.65610251e+00],\n",
              "       [ 6.85718935e+01],\n",
              "       [-4.67284355e+01],\n",
              "       [-2.19181505e+01],\n",
              "       [-5.10544891e+01],\n",
              "       [ 3.04769664e+01],\n",
              "       [-2.17385589e+01],\n",
              "       [ 3.07746441e+01],\n",
              "       [ 2.13476276e+01],\n",
              "       [-1.30570016e+01],\n",
              "       [-1.54726047e+01],\n",
              "       [-4.59581256e+01],\n",
              "       [ 3.43710384e+01],\n",
              "       [ 1.74943144e+01],\n",
              "       [-7.03446971e+01],\n",
              "       [ 8.22114997e+01],\n",
              "       [ 1.40323901e+01],\n",
              "       [-2.86035248e+01],\n",
              "       [ 6.55860358e+01],\n",
              "       [-3.50527403e+01],\n",
              "       [ 7.23595134e+01],\n",
              "       [-2.71575115e-02],\n",
              "       [-2.50617691e+01],\n",
              "       [-7.19900873e+01],\n",
              "       [ 7.31494988e-01],\n",
              "       [ 2.33229469e+01],\n",
              "       [ 4.44522164e+01],\n",
              "       [ 1.94548702e+01],\n",
              "       [ 1.88182737e-01],\n",
              "       [-9.61107344e+01],\n",
              "       [ 6.63609945e+01],\n",
              "       [-5.06000547e+00],\n",
              "       [-3.58256813e+01],\n",
              "       [ 6.50867191e+00],\n",
              "       [ 4.27812673e+01],\n",
              "       [-8.81657065e+01],\n",
              "       [-1.14067914e+02],\n",
              "       [-6.11450392e+01],\n",
              "       [-1.67547548e+01],\n",
              "       [-1.28396319e+01],\n",
              "       [ 4.49733589e+01],\n",
              "       [ 8.75345859e+01],\n",
              "       [ 9.57472146e+01],\n",
              "       [-2.71052094e+01],\n",
              "       [-1.52934219e+01],\n",
              "       [ 5.36866622e+01],\n",
              "       [-2.65475822e+01],\n",
              "       [-7.68702465e+01],\n",
              "       [ 1.63600962e+01],\n",
              "       [ 2.95678272e+01],\n",
              "       [ 4.54599317e+01],\n",
              "       [ 1.09629742e+01],\n",
              "       [ 3.88621637e+01],\n",
              "       [ 2.69874564e+01],\n",
              "       [-8.50663786e+00],\n",
              "       [-4.49153458e+01],\n",
              "       [ 1.67073962e+00],\n",
              "       [-2.57238393e+01],\n",
              "       [-1.55899433e+01],\n",
              "       [ 3.51469962e+01],\n",
              "       [ 1.81642197e+01],\n",
              "       [-9.62864522e+00],\n",
              "       [-4.60167017e+01],\n",
              "       [-2.90606708e+00],\n",
              "       [-3.61676540e+01],\n",
              "       [ 2.98606223e+00],\n",
              "       [-7.41580670e+00],\n",
              "       [-4.84421213e+01],\n",
              "       [-4.67748283e-01],\n",
              "       [ 1.17844657e+01],\n",
              "       [-5.27648493e+01],\n",
              "       [-5.54200307e+01]])"
            ]
          },
          "metadata": {},
          "execution_count": 23
        }
      ],
      "source": [
        "Y=y.reshape(y.shape[0],1)\n",
        "Y"
      ]
    },
    {
      "cell_type": "markdown",
      "metadata": {
        "id": "b1uDGPUH8c_1"
      },
      "source": [
        "ecrire X(vecteurs observations de x et 1 coller par hadtack)"
      ]
    },
    {
      "cell_type": "code",
      "execution_count": 25,
      "metadata": {
        "id": "Kvv-T7NO8c_1"
      },
      "outputs": [],
      "source": [
        "X=np.hstack((x,np.ones(x.shape)))"
      ]
    },
    {
      "cell_type": "code",
      "execution_count": 26,
      "metadata": {
        "colab": {
          "base_uri": "https://localhost:8080/"
        },
        "id": "fzOPxyFy8c_2",
        "outputId": "823d9641-11f0-43c0-c068-e3c841d5e63a"
      },
      "outputs": [
        {
          "output_type": "execute_result",
          "data": {
            "text/plain": [
              "array([[-0.35955316,  1.        ],\n",
              "       [ 0.97663904,  1.        ],\n",
              "       [ 0.40234164,  1.        ],\n",
              "       [-0.81314628,  1.        ],\n",
              "       [-0.88778575,  1.        ],\n",
              "       [ 0.44386323,  1.        ],\n",
              "       [-0.97727788,  1.        ],\n",
              "       [ 0.42833187,  1.        ],\n",
              "       [ 0.20827498,  1.        ],\n",
              "       [-0.31155253,  1.        ],\n",
              "       [-0.51080514,  1.        ],\n",
              "       [ 0.12691209,  1.        ],\n",
              "       [-1.53624369,  1.        ],\n",
              "       [-0.40178094,  1.        ],\n",
              "       [ 0.6536186 ,  1.        ],\n",
              "       [ 1.17877957,  1.        ],\n",
              "       [-0.17992484,  1.        ],\n",
              "       [ 1.78587049,  1.        ],\n",
              "       [ 1.45427351,  1.        ],\n",
              "       [-0.68481009,  1.        ],\n",
              "       [ 0.97873798,  1.        ],\n",
              "       [ 1.89588918,  1.        ],\n",
              "       [-0.4380743 ,  1.        ],\n",
              "       [ 0.3130677 ,  1.        ],\n",
              "       [ 0.76103773,  1.        ],\n",
              "       [ 0.77749036,  1.        ],\n",
              "       [ 1.9507754 ,  1.        ],\n",
              "       [ 0.33367433,  1.        ],\n",
              "       [-0.34791215,  1.        ],\n",
              "       [ 1.53277921,  1.        ],\n",
              "       [-0.89546656,  1.        ],\n",
              "       [-0.57884966,  1.        ],\n",
              "       [-1.04855297,  1.        ],\n",
              "       [ 0.37816252,  1.        ],\n",
              "       [ 0.01050002,  1.        ],\n",
              "       [ 0.46278226,  1.        ],\n",
              "       [ 0.14404357,  1.        ],\n",
              "       [-0.40317695,  1.        ],\n",
              "       [ 0.0519454 ,  1.        ],\n",
              "       [-1.25279536,  1.        ],\n",
              "       [ 1.05445173,  1.        ],\n",
              "       [ 0.40015721,  1.        ],\n",
              "       [-1.70627019,  1.        ],\n",
              "       [ 2.2408932 ,  1.        ],\n",
              "       [ 0.17742614,  1.        ],\n",
              "       [-0.20515826,  1.        ],\n",
              "       [ 1.23029068,  1.        ],\n",
              "       [-0.85409574,  1.        ],\n",
              "       [ 1.76405235,  1.        ],\n",
              "       [ 0.4105985 ,  1.        ],\n",
              "       [-0.90729836,  1.        ],\n",
              "       [-1.42001794,  1.        ],\n",
              "       [ 0.46566244,  1.        ],\n",
              "       [ 0.90082649,  1.        ],\n",
              "       [ 1.13940068,  1.        ],\n",
              "       [ 0.40198936,  1.        ],\n",
              "       [ 0.3869025 ,  1.        ],\n",
              "       [-1.7262826 ,  1.        ],\n",
              "       [ 1.46935877,  1.        ],\n",
              "       [-0.18718385,  1.        ],\n",
              "       [-0.87079715,  1.        ],\n",
              "       [ 0.3024719 ,  1.        ],\n",
              "       [ 1.20237985,  1.        ],\n",
              "       [-1.98079647,  1.        ],\n",
              "       [-2.55298982,  1.        ],\n",
              "       [-1.45436567,  1.        ],\n",
              "       [-0.02818223,  1.        ],\n",
              "       [ 0.15494743,  1.        ],\n",
              "       [ 1.22244507,  1.        ],\n",
              "       [ 1.86755799,  1.        ],\n",
              "       [ 2.26975462,  1.        ],\n",
              "       [-0.74216502,  1.        ],\n",
              "       [ 0.06651722,  1.        ],\n",
              "       [ 1.49407907,  1.        ],\n",
              "       [-0.67246045,  1.        ],\n",
              "       [-1.63019835,  1.        ],\n",
              "       [ 0.12898291,  1.        ],\n",
              "       [ 0.95008842,  1.        ],\n",
              "       [ 1.48825219,  1.        ],\n",
              "       [ 0.05616534,  1.        ],\n",
              "       [ 0.8644362 ,  1.        ],\n",
              "       [ 0.70657317,  1.        ],\n",
              "       [-0.15135721,  1.        ],\n",
              "       [-1.07075262,  1.        ],\n",
              "       [-0.10321885,  1.        ],\n",
              "       [-0.30230275,  1.        ],\n",
              "       [-0.38732682,  1.        ],\n",
              "       [ 0.72909056,  1.        ],\n",
              "       [ 0.12167502,  1.        ],\n",
              "       [-0.50965218,  1.        ],\n",
              "       [-1.23482582,  1.        ],\n",
              "       [-0.21274028,  1.        ],\n",
              "       [-0.63432209,  1.        ],\n",
              "       [ 0.15634897,  1.        ],\n",
              "       [ 0.04575852,  1.        ],\n",
              "       [-1.16514984,  1.        ],\n",
              "       [-0.36274117,  1.        ],\n",
              "       [ 0.3563664 ,  1.        ],\n",
              "       [-1.61389785,  1.        ],\n",
              "       [-1.18063218,  1.        ]])"
            ]
          },
          "metadata": {},
          "execution_count": 26
        }
      ],
      "source": [
        "X.shape\n",
        "X"
      ]
    },
    {
      "cell_type": "markdown",
      "metadata": {
        "id": "jweRP0HU8c_2"
      },
      "source": [
        "initialiser le vecteur de parametre aleatoire"
      ]
    },
    {
      "cell_type": "code",
      "execution_count": 27,
      "metadata": {
        "colab": {
          "base_uri": "https://localhost:8080/"
        },
        "id": "5K-lqzIq8c_2",
        "outputId": "7a39afc8-9082-43af-f4dc-0c731e77d4db"
      },
      "outputs": [
        {
          "output_type": "execute_result",
          "data": {
            "text/plain": [
              "array([[1.76405235],\n",
              "       [0.40015721]])"
            ]
          },
          "metadata": {},
          "execution_count": 27
        }
      ],
      "source": [
        "np.random.seed(0) # pour produire toujours le meme vecteur theta aléatoire\n",
        "theta=np.random.randn(2,1)\n",
        "theta"
      ]
    },
    {
      "cell_type": "markdown",
      "metadata": {
        "id": "EU4pJUjZ8c_3"
      },
      "source": [
        "2-Modele"
      ]
    },
    {
      "cell_type": "code",
      "execution_count": 28,
      "metadata": {
        "id": "lDXzaHzG8c_3"
      },
      "outputs": [],
      "source": [
        "def model(X,theta):\n",
        "    return X.dot(theta)"
      ]
    },
    {
      "cell_type": "code",
      "execution_count": 29,
      "metadata": {
        "colab": {
          "base_uri": "https://localhost:8080/",
          "height": 448
        },
        "id": "ifEH0iu88c_3",
        "outputId": "098e52e8-1512-4533-b6dc-74faeb43342f"
      },
      "outputs": [
        {
          "output_type": "execute_result",
          "data": {
            "text/plain": [
              "[<matplotlib.lines.Line2D at 0x7b276ccb28c0>]"
            ]
          },
          "metadata": {},
          "execution_count": 29
        },
        {
          "output_type": "display_data",
          "data": {
            "text/plain": [
              "<Figure size 640x480 with 1 Axes>"
            ],
            "image/png": "[encoded data removed]"
          },
          "metadata": {}
        }
      ],
      "source": [
        "plt.scatter(x,Y)\n",
        "plt.plot(x,model(X,theta),color='r')\n"
      ]
    },
    {
      "cell_type": "markdown",
      "metadata": {
        "id": "5ouTsdOd8c_3"
      },
      "source": [
        "3-Fonction cout"
      ]
    },
    {
      "cell_type": "code",
      "execution_count": 32,
      "metadata": {
        "id": "kembCv0Q8c_4"
      },
      "outputs": [],
      "source": [
        "def cost_fonction(X,Y,theta):\n",
        "    m=len(Y)\n",
        "    return (1/(2*m))*np.sum((model(X,theta)-Y)**2)"
      ]
    },
    {
      "cell_type": "code",
      "execution_count": 33,
      "metadata": {
        "colab": {
          "base_uri": "https://localhost:8080/"
        },
        "id": "dVxYQWHm8c_4",
        "outputId": "c7ad2dea-23aa-46da-ebd5-df80a4c3a498"
      },
      "outputs": [
        {
          "output_type": "execute_result",
          "data": {
            "text/plain": [
              "905.6306841935502"
            ]
          },
          "metadata": {},
          "execution_count": 33
        }
      ],
      "source": [
        "#l'erreur\n",
        "cost_fonction(X,Y,theta)"
      ]
    },
    {
      "cell_type": "markdown",
      "metadata": {
        "id": "wTiyW25N8c_4"
      },
      "source": [
        "3-Dscent de gradient"
      ]
    },
    {
      "cell_type": "code",
      "execution_count": 34,
      "metadata": {
        "id": "_kAlVgBS8c_4"
      },
      "outputs": [],
      "source": [
        "def grad(X,y,theta):\n",
        "    m=len(y)\n",
        "    return (1/m)*X.T.dot(model(X,theta)-Y)"
      ]
    },
    {
      "cell_type": "code",
      "execution_count": 58,
      "metadata": {
        "id": "5ABrs2C68c_5"
      },
      "outputs": [],
      "source": [
        "def gradient_descent(X,y,theta,learning_rate,n_iterations):\n",
        "    cost_history = np.zeros(n_iterations) # création d'un tableau de stockage pour enregistrer l'évolution du Cout du modele\n",
        "    for i in range (0,n_iterations):\n",
        "        theta=theta-learning_rate*grad(X,Y,theta)\n",
        "        cost_history[i] = cost_fonction(X, y, theta) # on enregistre la valeur du Cout au tour i dans cost_history[i]\n",
        "    return theta, cost_history"
      ]
    },
    {
      "cell_type": "code",
      "execution_count": 59,
      "metadata": {
        "colab": {
          "base_uri": "https://localhost:8080/"
        },
        "id": "eZusaTqE8c_5",
        "outputId": "44e507dc-29f4-4741-b4dc-0f7bb8b60416"
      },
      "outputs": [
        {
          "output_type": "execute_result",
          "data": {
            "text/plain": [
              "(array([[27.83301488],\n",
              "        [ 0.52433628]]),\n",
              " array([903.90153664, 902.17592483, 900.4538415 , 898.73527941,\n",
              "        897.02023135, 895.30869009, 893.60064846, 891.89609926,\n",
              "        890.19503533, 888.49744952, 886.8033347 , 885.11268375,\n",
              "        883.42548956, 881.74174503, 880.0614431 , 878.3845767 ,\n",
              "        876.71113878, 875.0411223 , 873.37452026, 871.71132564,\n",
              "        870.05153146, 868.39513074, 866.74211652, 865.09248185,\n",
              "        863.4462198 , 861.80332345, 860.1637859 , 858.52760026,\n",
              "        856.89475964, 855.2652572 , 853.63908608, 852.01623946,\n",
              "        850.3967105 , 848.78049241, 847.16757839, 845.55796167,\n",
              "        843.95163548, 842.34859308, 840.74882773, 839.1523327 ,\n",
              "        837.5591013 , 835.96912682, 834.38240258, 832.79892193,\n",
              "        831.2186782 , 829.64166476, 828.06787498, 826.49730225,\n",
              "        824.92993997, 823.36578156, 821.80482045, 820.24705008,\n",
              "        818.6924639 , 817.14105539, 815.59281802, 814.0477453 ,\n",
              "        812.50583073, 810.96706784, 809.43145016, 807.89897125,\n",
              "        806.36962466, 804.84340397, 803.32030277, 801.80031467,\n",
              "        800.28343328, 798.76965222, 797.25896515, 795.75136571,\n",
              "        794.24684757, 792.74540442, 791.24702995, 789.75171787,\n",
              "        788.25946189, 786.77025575, 785.2840932 , 783.80096799,\n",
              "        782.32087389, 780.8438047 , 779.3697542 , 777.89871621,\n",
              "        776.43068456, 774.96565306, 773.50361558, 772.04456597,\n",
              "        770.58849812, 769.13540589, 767.6852832 , 766.23812395,\n",
              "        764.79392206, 763.35267148, 761.91436615, 760.47900004,\n",
              "        759.04656711, 757.61706135, 756.19047676, 754.76680736,\n",
              "        753.34604715, 751.92819019, 750.51323051, 749.10116218,\n",
              "        747.69197926, 746.28567585, 744.88224604, 743.48168393,\n",
              "        742.08398365, 740.68913934, 739.29714512, 737.90799517,\n",
              "        736.52168365, 735.13820474, 733.75755263, 732.37972153,\n",
              "        731.00470566, 729.63249924, 728.26309652, 726.89649174,\n",
              "        725.53267917, 724.17165309, 722.81340778, 721.45793755,\n",
              "        720.1052367 , 718.75529955, 717.40812045, 716.06369374,\n",
              "        714.72201377, 713.38307492, 712.04687156, 710.71339809,\n",
              "        709.38264891, 708.05461844, 706.72930111, 705.40669134,\n",
              "        704.0867836 , 702.76957235, 701.45505205, 700.1432172 ,\n",
              "        698.83406228, 697.5275818 , 696.22377029, 694.92262227,\n",
              "        693.62413227, 692.32829486, 691.0351046 , 689.74455606,\n",
              "        688.45664382, 687.17136249, 685.88870666, 684.60867096,\n",
              "        683.33125003, 682.05643849, 680.784231  , 679.51462222,\n",
              "        678.24760683, 676.98317951, 675.72133496, 674.46206789,\n",
              "        673.20537301, 671.95124504, 670.69967874, 669.45066884,\n",
              "        668.20421011, 666.96029733, 665.71892527, 664.48008872,\n",
              "        663.2437825 , 662.01000141, 660.77874028, 659.54999394,\n",
              "        658.32375725, 657.10002505, 655.87879222, 654.66005364,\n",
              "        653.44380419, 652.23003876, 651.01875229, 649.80993967,\n",
              "        648.60359584, 647.39971575, 646.19829434, 644.99932657,\n",
              "        643.80280743, 642.60873188, 641.41709493, 640.22789157,\n",
              "        639.04111682, 637.85676571, 636.67483326, 635.49531452,\n",
              "        634.31820454, 633.1434984 , 631.97119115, 630.8012779 ,\n",
              "        629.63375372, 628.46861374, 627.30585305, 626.14546679,\n",
              "        624.9874501 , 623.83179811, 622.67850598, 621.52756888,\n",
              "        620.37898198, 619.23274046, 618.08883953, 616.94727438,\n",
              "        615.80804023, 614.6711323 , 613.53654583, 612.40427606,\n",
              "        611.27431824, 610.14666765, 609.02131954, 607.89826921,\n",
              "        606.77751194, 605.65904304, 604.54285783, 603.42895161,\n",
              "        602.31731973, 601.20795752, 600.10086033, 598.99602352,\n",
              "        597.89344247, 596.79311255, 595.69502915, 594.59918767,\n",
              "        593.50558351, 592.41421209, 591.32506884, 590.23814919,\n",
              "        589.1534486 , 588.0709625 , 586.99068637, 585.91261568,\n",
              "        584.8367459 , 583.76307254, 582.6915911 , 581.62229708,\n",
              "        580.555186  , 579.49025339, 578.42749479, 577.36690574,\n",
              "        576.30848181, 575.25221855, 574.19811155, 573.14615637,\n",
              "        572.09634863, 571.04868391, 570.00315783, 568.95976601,\n",
              "        567.91850408, 566.87936767, 565.84235243, 564.80745401,\n",
              "        563.77466809, 562.74399033, 561.71541641, 560.68894203,\n",
              "        559.66456289, 558.6422747 , 557.62207316, 556.60395402,\n",
              "        555.58791299, 554.57394584, 553.56204831, 552.55221616,\n",
              "        551.54444516, 550.53873109, 549.53506974, 548.53345691,\n",
              "        547.53388839, 546.53636   , 545.54086757, 544.54740693,\n",
              "        543.5559739 , 542.56656435, 541.57917413, 540.5937991 ,\n",
              "        539.61043513, 538.62907811, 537.64972393, 536.67236849,\n",
              "        535.69700768, 534.72363744, 533.75225367, 532.78285232,\n",
              "        531.81542933, 530.84998064, 529.88650221, 528.92499   ,\n",
              "        527.96543999, 527.00784817, 526.05221052, 525.09852304,\n",
              "        524.14678173, 523.19698262, 522.24912173, 521.30319508,\n",
              "        520.35919872, 519.41712869, 518.47698105, 517.53875186,\n",
              "        516.6024372 , 515.66803315, 514.73553579, 513.80494121,\n",
              "        512.87624554, 511.94944486, 511.02453532, 510.10151302,\n",
              "        509.18037412, 508.26111475, 507.34373107, 506.42821923,\n",
              "        505.5145754 , 504.60279576, 503.6928765 , 502.7848138 ,\n",
              "        501.87860386, 500.97424288, 500.0717271 , 499.17105272,\n",
              "        498.27221597, 497.3752131 , 496.48004035, 495.58669397,\n",
              "        494.69517023, 493.80546539, 492.91757573, 492.03149753,\n",
              "        491.14722709, 490.2647607 , 489.38409468, 488.50522532,\n",
              "        487.62814897, 486.75286195, 485.87936059, 485.00764124,\n",
              "        484.13770025, 483.26953398, 482.4031388 , 481.53851108,\n",
              "        480.67564721, 479.81454357, 478.95519656, 478.09760259,\n",
              "        477.24175807, 476.38765941, 475.53530305, 474.68468541,\n",
              "        473.83580294, 472.98865208, 472.1432293 , 471.29953105,\n",
              "        470.45755381, 469.61729405, 468.77874825, 467.94191292,\n",
              "        467.10678454, 466.27335963, 465.44163469, 464.61160625,\n",
              "        463.78327084, 462.95662499, 462.13166525, 461.30838815,\n",
              "        460.48679026, 459.66686815, 458.84861838, 458.03203752,\n",
              "        457.21712218, 456.40386892, 455.59227436, 454.7823351 ,\n",
              "        453.97404775, 453.16740893, 452.36241527, 451.5590634 ,\n",
              "        450.75734996, 449.9572716 , 449.15882496, 448.36200672,\n",
              "        447.56681354, 446.7732421 , 445.98128907, 445.19095114,\n",
              "        444.40222501, 443.61510739, 442.82959497, 442.04568447,\n",
              "        441.26337262, 440.48265615, 439.70353179, 438.92599627,\n",
              "        438.15004636, 437.37567881, 436.60289037, 435.83167782,\n",
              "        435.06203794, 434.2939675 , 433.52746329, 432.76252211,\n",
              "        431.99914076, 431.23731606, 430.4770448 , 429.71832382,\n",
              "        428.96114995, 428.20552001, 427.45143085, 426.69887932,\n",
              "        425.94786226, 425.19837655, 424.45041905, 423.70398663,\n",
              "        422.95907616, 422.21568455, 421.47380867, 420.73344544,\n",
              "        419.99459174, 419.2572445 , 418.52140064, 417.78705707,\n",
              "        417.05421073, 416.32285856, 415.59299749, 414.86462448,\n",
              "        414.13773649, 413.41233046, 412.68840339, 411.96595223,\n",
              "        411.24497397, 410.52546559, 409.8074241 , 409.09084648,\n",
              "        408.37572974, 407.6620709 , 406.94986697, 406.23911498,\n",
              "        405.52981195, 404.82195492, 404.11554094, 403.41056705,\n",
              "        402.70703031, 402.00492777, 401.3042565 , 400.60501358,\n",
              "        399.90719608, 399.21080109, 398.5158257 , 397.822267  ,\n",
              "        397.1301221 , 396.4393881 , 395.75006212, 395.06214127,\n",
              "        394.3756227 , 393.69050351, 393.00678086, 392.32445189,\n",
              "        391.64351375, 390.96396358, 390.28579856, 389.60901585,\n",
              "        388.93361263, 388.25958606, 387.58693334, 386.91565166,\n",
              "        386.2457382 , 385.57719018, 384.9100048 , 384.24417928,\n",
              "        383.57971083, 382.91659667, 382.25483404, 381.59442018,\n",
              "        380.93535232, 380.27762771, 379.62124361, 378.96619727,\n",
              "        378.31248596, 377.66010694, 377.0090575 , 376.35933492,\n",
              "        375.71093647, 375.06385946, 374.41810117, 373.77365892,\n",
              "        373.13053002, 372.48871176, 371.84820149, 371.20899652,\n",
              "        370.57109418, 369.9344918 , 369.29918674, 368.66517634,\n",
              "        368.03245794, 367.40102892, 366.77088662, 366.14202843,\n",
              "        365.51445171, 364.88815385, 364.26313222, 363.63938422,\n",
              "        363.01690725, 362.39569871, 361.775756  , 361.15707654,\n",
              "        360.53965773, 359.92349701, 359.30859181, 358.69493954,\n",
              "        358.08253766, 357.47138361, 356.86147483, 356.25280879,\n",
              "        355.64538293, 355.03919472, 354.43424163, 353.83052114,\n",
              "        353.22803073, 352.62676788, 352.02673008, 351.42791483,\n",
              "        350.83031963, 350.23394198, 349.6387794 , 349.0448294 ,\n",
              "        348.45208949, 347.86055722, 347.2702301 , 346.68110568,\n",
              "        346.0931815 , 345.5064551 , 344.92092403, 344.33658585,\n",
              "        343.75343812, 343.17147842, 342.5907043 , 342.01111334,\n",
              "        341.43270314, 340.85547126, 340.27941531, 339.70453289,\n",
              "        339.13082158, 338.558279  , 337.98690276, 337.41669048,\n",
              "        336.84763977, 336.27974826, 335.71301358, 335.14743337,\n",
              "        334.58300527, 334.01972691, 333.45759596, 332.89661007,\n",
              "        332.33676689, 331.7780641 , 331.22049935, 330.66407032,\n",
              "        330.1087747 , 329.55461016, 329.0015744 , 328.4496651 ,\n",
              "        327.89887997, 327.3492167 , 326.800673  , 326.25324659,\n",
              "        325.70693518, 325.1617365 , 324.61764826, 324.0746682 ,\n",
              "        323.53279406, 322.99202356, 322.45235447, 321.91378452,\n",
              "        321.37631148, 320.83993309, 320.30464713, 319.77045135,\n",
              "        319.23734354, 318.70532146, 318.1743829 , 317.64452565,\n",
              "        317.11574749, 316.58804622, 316.06141964, 315.53586555,\n",
              "        315.01138177, 314.48796609, 313.96561635, 313.44433036,\n",
              "        312.92410595, 312.40494095, 311.88683319, 311.36978052,\n",
              "        310.85378078, 310.33883181, 309.82493147, 309.31207762,\n",
              "        308.80026812, 308.28950083, 307.77977362, 307.27108438,\n",
              "        306.76343097, 306.25681129, 305.75122321, 305.24666464,\n",
              "        304.74313346, 304.24062759, 303.73914492, 303.23868336,\n",
              "        302.73924083, 302.24081524, 301.74340452, 301.24700659,\n",
              "        300.75161939, 300.25724085, 299.76386891, 299.2715015 ,\n",
              "        298.78013659, 298.28977212, 297.80040604, 297.31203632,\n",
              "        296.82466093, 296.33827782, 295.85288498, 295.36848037,\n",
              "        294.88506199, 294.40262781, 293.92117583, 293.44070404,\n",
              "        292.96121043, 292.48269302, 292.00514979, 291.52857877,\n",
              "        291.05297796, 290.5783454 , 290.10467908, 289.63197706,\n",
              "        289.16023734, 288.68945797, 288.21963699, 287.75077244,\n",
              "        287.28286236, 286.8159048 , 286.34989783, 285.88483949,\n",
              "        285.42072785, 284.95756098, 284.49533694, 284.03405381,\n",
              "        283.57370967, 283.11430259, 282.65583068, 282.19829201,\n",
              "        281.74168467, 281.28600678, 280.83125642, 280.37743171,\n",
              "        279.92453075, 279.47255165, 279.02149254, 278.57135153,\n",
              "        278.12212675, 277.67381633, 277.2264184 , 276.7799311 ,\n",
              "        276.33435256, 275.88968093, 275.44591436, 275.003051  ,\n",
              "        274.56108901, 274.12002654, 273.67986175, 273.24059282,\n",
              "        272.80221792, 272.36473521, 271.92814287, 271.4924391 ,\n",
              "        271.05762206, 270.62368996, 270.19064098, 269.75847333,\n",
              "        269.32718519, 268.89677478, 268.4672403 , 268.03857997,\n",
              "        267.61079199, 267.18387459, 266.75782599, 266.33264442,\n",
              "        265.9083281 , 265.48487527, 265.06228416, 264.64055301,\n",
              "        264.21968008, 263.7996636 , 263.38050183, 262.96219301,\n",
              "        262.54473542, 262.12812731, 261.71236695, 261.29745261,\n",
              "        260.88338255, 260.47015506, 260.05776841, 259.64622089,\n",
              "        259.23551078, 258.82563638, 258.41659597, 258.00838786,\n",
              "        257.60101035, 257.19446173, 256.78874032, 256.38384443,\n",
              "        255.97977237, 255.57652247, 255.17409303, 254.77248239,\n",
              "        254.37168888, 253.97171082, 253.57254655, 253.17419442,\n",
              "        252.77665275, 252.37991991, 251.98399423, 251.58887407,\n",
              "        251.19455778, 250.80104372, 250.40833026, 250.01641576,\n",
              "        249.62529859, 249.23497712, 248.84544973, 248.45671479,\n",
              "        248.06877069, 247.68161582, 247.29524856, 246.9096673 ,\n",
              "        246.52487044, 246.14085638, 245.75762352, 245.37517027,\n",
              "        244.99349503, 244.61259622, 244.23247225, 243.85312154,\n",
              "        243.47454251, 243.09673358, 242.71969319, 242.34341977,\n",
              "        241.96791174, 241.59316756, 241.21918565, 240.84596446,\n",
              "        240.47350244, 240.10179804, 239.73084972, 239.36065592,\n",
              "        238.99121512, 238.62252577, 238.25458634, 237.88739529,\n",
              "        237.52095111, 237.15525226, 236.79029723, 236.4260845 ,\n",
              "        236.06261254, 235.69987986, 235.33788494, 234.97662628,\n",
              "        234.61610237, 234.25631171, 233.89725281, 233.53892417,\n",
              "        233.1813243 , 232.82445172, 232.46830494, 232.11288248,\n",
              "        231.75818287, 231.40420462, 231.05094626, 230.69840633,\n",
              "        230.34658336, 229.99547588, 229.64508244, 229.29540158,\n",
              "        228.94643184, 228.59817178, 228.25061994, 227.90377488,\n",
              "        227.55763516, 227.21219933, 226.86746597, 226.52343363,\n",
              "        226.1801009 , 225.83746633, 225.49552851, 225.15428601,\n",
              "        224.81373741, 224.47388131, 224.13471628, 223.79624091,\n",
              "        223.4584538 , 223.12135355, 222.78493875, 222.449208  ,\n",
              "        222.11415991, 221.77979309, 221.44610614, 221.11309768,\n",
              "        220.78076632, 220.44911068, 220.11812938, 219.78782106,\n",
              "        219.45818432, 219.12921781, 218.80092016, 218.47329   ,\n",
              "        218.14632596, 217.8200267 , 217.49439085, 217.16941707,\n",
              "        216.84510399, 216.52145027, 216.19845457, 215.87611555,\n",
              "        215.55443186, 215.23340217, 214.91302514, 214.59329944,\n",
              "        214.27422375, 213.95579673, 213.63801706, 213.32088343,\n",
              "        213.00439451, 212.688549  , 212.37334557, 212.05878292,\n",
              "        211.74485973, 211.43157472, 211.11892656, 210.80691397,\n",
              "        210.49553565, 210.18479031, 209.87467664, 209.56519337,\n",
              "        209.25633921, 208.94811287, 208.64051308, 208.33353856,\n",
              "        208.02718802, 207.72146021, 207.41635384, 207.11186765,\n",
              "        206.80800038, 206.50475076, 206.20211753, 205.90009944,\n",
              "        205.59869523, 205.29790365, 204.99772344, 204.69815337,\n",
              "        204.39919219, 204.10083865, 203.80309152, 203.50594956,\n",
              "        203.20941153, 202.91347621, 202.61814236, 202.32340876,\n",
              "        202.02927419, 201.73573741, 201.44279722, 201.15045239,\n",
              "        200.85870171, 200.56754398, 200.27697797, 199.98700249,\n",
              "        199.69761632, 199.40881828, 199.12060715, 198.83298174,\n",
              "        198.54594086, 198.25948331, 197.97360791, 197.68831346,\n",
              "        197.40359879, 197.11946271, 196.83590404, 196.5529216 ,\n",
              "        196.27051422, 195.98868072, 195.70741994, 195.42673071,\n",
              "        195.14661186, 194.86706223, 194.58808065, 194.30966597,\n",
              "        194.03181704, 193.7545327 , 193.47781179, 193.20165318,\n",
              "        192.92605571, 192.65101823, 192.37653962, 192.10261872,\n",
              "        191.8292544 , 191.55644552, 191.28419096, 191.01248958,\n",
              "        190.74134026, 190.47074186, 190.20069327, 189.93119337,\n",
              "        189.66224103, 189.39383514, 189.12597459, 188.85865825,\n",
              "        188.59188504, 188.32565383, 188.05996352, 187.794813  ,\n",
              "        187.53020119, 187.26612698, 187.00258927, 186.73958697,\n",
              "        186.47711899, 186.21518424, 185.95378162, 185.69291007,\n",
              "        185.43256849, 185.17275581, 184.91347094, 184.65471281,\n",
              "        184.39648034, 184.13877247, 183.88158813, 183.62492624,\n",
              "        183.36878574, 183.11316558, 182.85806468, 182.60348199,\n",
              "        182.34941646, 182.09586702, 181.84283264, 181.59031225,\n",
              "        181.33830481, 181.08680928, 180.8358246 , 180.58534975,\n",
              "        180.33538367, 180.08592534, 179.83697372, 179.58852777,\n",
              "        179.34058647, 179.09314878, 178.84621368, 178.59978015,\n",
              "        178.35384716, 178.10841369, 177.86347873, 177.61904125,\n",
              "        177.37510025, 177.13165471, 176.88870362, 176.64624598,\n",
              "        176.40428077, 176.162807  , 175.92182367, 175.68132977,\n",
              "        175.4413243 , 175.20180628, 174.9627747 , 174.72422858,\n",
              "        174.48616693, 174.24858875, 174.01149307, 173.7748789 ,\n",
              "        173.53874526, 173.30309117, 173.06791565, 172.83321773,\n",
              "        172.59899643, 172.36525078, 172.13197982, 171.89918258,\n",
              "        171.66685808, 171.43500538, 171.20362349, 170.97271148,\n",
              "        170.74226837, 170.51229322, 170.28278506, 170.05374296,\n",
              "        169.82516595, 169.59705309, 169.36940344, 169.14221605,\n",
              "        168.91548998, 168.68922428, 168.46341803, 168.23807028]))"
            ]
          },
          "metadata": {},
          "execution_count": 59
        }
      ],
      "source": [
        "grad(X,Y,theta)\n",
        "gradient_descent(X,Y,theta,0.001,1000)"
      ]
    },
    {
      "cell_type": "markdown",
      "metadata": {
        "id": "2hCyTfwy8c_5"
      },
      "source": [
        "4-Machine learning"
      ]
    },
    {
      "cell_type": "code",
      "execution_count": 60,
      "metadata": {
        "colab": {
          "base_uri": "https://localhost:8080/"
        },
        "id": "q6W4I1eQ8c_5",
        "outputId": "f5d63a75-9ac3-45a0-acc4-a6703281c32c"
      },
      "outputs": [
        {
          "output_type": "execute_result",
          "data": {
            "text/plain": [
              "array([[42.61765864],\n",
              "       [-0.81309274]])"
            ]
          },
          "metadata": {},
          "execution_count": 60
        }
      ],
      "source": [
        "theta_final,cost_history=gradient_descent(X,Y,theta,0.01,1000)\n",
        "theta_final"
      ]
    },
    {
      "cell_type": "code",
      "execution_count": 56,
      "metadata": {
        "colab": {
          "base_uri": "https://localhost:8080/",
          "height": 448
        },
        "id": "eQMFtFXC8c_6",
        "outputId": "d71761d0-96db-4cfb-b35e-d6d6cba1ffd2"
      },
      "outputs": [
        {
          "output_type": "execute_result",
          "data": {
            "text/plain": [
              "[<matplotlib.lines.Line2D at 0x7b276cce64d0>]"
            ]
          },
          "metadata": {},
          "execution_count": 56
        },
        {
          "output_type": "display_data",
          "data": {
            "text/plain": [
              "<Figure size 640x480 with 1 Axes>"
            ],
            "image/png": "[encoded data removed]"
          },
          "metadata": {}
        }
      ],
      "source": [
        "y_pred=model(X,theta_final)\n",
        "plt.scatter(x,Y)\n",
        "plt.plot(x,model(X,theta_final),color='g')"
      ]
    },
    {
      "cell_type": "code",
      "execution_count": 57,
      "metadata": {
        "colab": {
          "base_uri": "https://localhost:8080/"
        },
        "id": "DCzH106v8c_6",
        "outputId": "fe1514ea-5478-4b0d-e598-89ceda72c565"
      },
      "outputs": [
        {
          "output_type": "execute_result",
          "data": {
            "text/plain": [
              "57.08574516158981"
            ]
          },
          "metadata": {},
          "execution_count": 57
        }
      ],
      "source": [
        "cost_fonction(X, Y, theta_final)"
      ]
    },
    {
      "cell_type": "markdown",
      "source": [
        "**Coure d'aprentissage**"
      ],
      "metadata": {
        "id": "e57BCjDw_gEY"
      }
    },
    {
      "cell_type": "code",
      "source": [
        "plt.plot(range(1000),cost_history)"
      ],
      "metadata": {
        "colab": {
          "base_uri": "https://localhost:8080/",
          "height": 448
        },
        "id": "IkNJq5-X-6wF",
        "outputId": "444e60cf-ecb2-43bc-dea7-58965ebf52b0"
      },
      "execution_count": 61,
      "outputs": [
        {
          "output_type": "execute_result",
          "data": {
            "text/plain": [
              "[<matplotlib.lines.Line2D at 0x7b276c6e2290>]"
            ]
          },
          "metadata": {},
          "execution_count": 61
        },
        {
          "output_type": "display_data",
          "data": {
            "text/plain": [
              "<Figure size 640x480 with 1 Axes>"
            ],
            "image/png": "[encoded data removed]"
          },
          "metadata": {}
        }
      ]
    },
    {
      "cell_type": "code",
      "source": [],
      "metadata": {
        "id": "MV_dKZ4OAKN1"
      },
      "execution_count": null,
      "outputs": []
    },
    {
      "cell_type": "markdown",
      "source": [
        "**Evaluer le modele par R carre**"
      ],
      "metadata": {
        "id": "1hx6ilrIAS94"
      }
    },
    {
      "cell_type": "code",
      "source": [
        "def coeif_determination(Y,y_pred):\n",
        "  u=((Y-y_pred)**2).sum()\n",
        "  v=((Y-(Y.mean()))**2).sum()\n",
        "  return 1-u/v"
      ],
      "metadata": {
        "id": "Ej5uCFHmAZhu"
      },
      "execution_count": 64,
      "outputs": []
    },
    {
      "cell_type": "code",
      "source": [
        "coeif_determination(Y,y_pred)"
      ],
      "metadata": {
        "colab": {
          "base_uri": "https://localhost:8080/"
        },
        "id": "zTcSthGjBYsK",
        "outputId": "bf6df4bc-b64e-4465-905a-8a2b611050eb"
      },
      "execution_count": 65,
      "outputs": [
        {
          "output_type": "execute_result",
          "data": {
            "text/plain": [
              "0.9417294706504984"
            ]
          },
          "metadata": {},
          "execution_count": 65
        }
      ]
    },
    {
      "cell_type": "code",
      "source": [],
      "metadata": {
        "id": "6EZ5R22VBbfM"
      },
      "execution_count": null,
      "outputs": []
    }
  ],
  "metadata": {
    "kernelspec": {
      "display_name": "Python 3",
      "language": "python",
      "name": "python3"
    },
    "language_info": {
      "codemirror_mode": {
        "name": "ipython",
        "version": 3
      },
      "file_extension": ".py",
      "mimetype": "text/x-python",
      "name": "python",
      "nbconvert_exporter": "python",
      "pygments_lexer": "ipython3",
      "version": "3.12.6"
    },
    "colab": {
      "provenance": []
    }
  },
  "nbformat": 4,
  "nbformat_minor": 0
}